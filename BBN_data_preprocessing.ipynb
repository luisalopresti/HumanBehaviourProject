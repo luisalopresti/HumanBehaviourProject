{
 "cells": [
  {
   "cell_type": "markdown",
   "metadata": {},
   "source": [
    "## Bayesian Network\n",
    "In order to proceed with the creation of the probabilistic model proposed, some previous operations on data need to be performed. These operations are:\n",
    "1. Integrating sensors data from GPS, time, Bluetooth and/or mood from time diaries (which have already been done in previous notebooks).\n",
    "2. Grouping activities into homogenous categories, to reduce the number of values and make the results more interpretable.\n",
    "3. Establish a probabilistic relations between variables.\n",
    "\n",
    "This notebook is dedicated to the second of these points."
   ]
  },
  {
   "cell_type": "code",
   "execution_count": null,
   "metadata": {},
   "outputs": [],
   "source": [
    "import pandas as pd"
   ]
  },
  {
   "cell_type": "code",
   "execution_count": null,
   "metadata": {},
   "outputs": [],
   "source": [
    "df = pd.read_csv('location_4Ws_bluetooth.csv')\n",
    "df = df.drop([\"Unnamed: 0\"], axis=1)\n",
    "\n",
    "df = df.sort_values(by=['City'], ascending=True) \n",
    "\n",
    "# drop row if both \"with_who\" and \"bluetooth\" values are NaN\n",
    "df = df.dropna(subset=[\"with_who\", \"bluetooth\"], how='all')\n",
    "df = df.reset_index()"
   ]
  },
  {
   "cell_type": "code",
   "execution_count": null,
   "metadata": {},
   "outputs": [],
   "source": [
    "df = df.drop([\"index\"], axis=1)"
   ]
  },
  {
   "cell_type": "code",
   "execution_count": null,
   "metadata": {},
   "outputs": [],
   "source": [
    "df"
   ]
  },
  {
   "cell_type": "markdown",
   "metadata": {},
   "source": [
    "### Removing Bluetooth not corresponding to people"
   ]
  },
  {
   "cell_type": "code",
   "execution_count": null,
   "metadata": {},
   "outputs": [],
   "source": [
    "# removing bluetooth devices that do not correspond to people (i.e., computers and TV)\n",
    "for row in range(len(df)):\n",
    "    if pd.isna(df.bluetooth[row]) == False:\n",
    "        new = []\n",
    "        if 'TV' in df.bluetooth[row] or 'DESKTOP' in df.bluetooth[row] or 'LAPTOP' in df.bluetooth[row]:\n",
    "            old = df.bluetooth[row]\n",
    "            #print(new)\n",
    "            import re\n",
    "            # regular expression\n",
    "            # re.findall(\"START.*?(?:END|ALTERNATIVE_END|ALTERNATIVE_END2)\", s)\n",
    "            l = re.findall(\"'.*?(?:')\", old)\n",
    "            for el in l:\n",
    "                if 'TV' not in el and 'DESKTOP' not in el and 'LAPTOP' not in el:\n",
    "                    new.append(el[1:-1])\n",
    "            df.at[row, 'bluetooth'] = str(new)"
   ]
  },
  {
   "cell_type": "markdown",
   "metadata": {},
   "source": [
    "### Recoding activities:"
   ]
  },
  {
   "cell_type": "code",
   "execution_count": null,
   "metadata": {},
   "outputs": [],
   "source": [
    "# Drop records where target (what, the activity to predict) is NaN\n",
    "df = df[pd.isnull(df['what'])==False]\n",
    "df = df.reset_index()"
   ]
  },
  {
   "cell_type": "code",
   "execution_count": null,
   "metadata": {},
   "outputs": [],
   "source": [
    "df = df.drop([\"index\"], axis=1)"
   ]
  },
  {
   "cell_type": "code",
   "execution_count": null,
   "metadata": {},
   "outputs": [],
   "source": [
    "df.what.unique()"
   ]
  },
  {
   "cell_type": "code",
   "execution_count": null,
   "metadata": {},
   "outputs": [],
   "source": [
    "# Recode activities into broader categories\n",
    "for row in range(len(df)):\n",
    "    if df.what[row] == 'Walking' or df.what[row] == 'Sport: Walking, Trekking and hiking':\n",
    "        df.at[row, 'what'] = 'Physical activities'\n",
    "        \n",
    "    if df.what[row] == 'Other':\n",
    "        df.at[row, 'what'] = 'Others'\n",
    "        \n",
    "    if df.what[row] == 'Grocery Shopping' or df.what[row] == 'Other Shopping'\\\n",
    "    or df.what[row] == 'Cooking, food preparation & management':\n",
    "        df.at[row, 'what'] = 'Shopping and Household'\n",
    "        \n",
    "    if df.what[row] == 'Study/work group' or df.what[row] == 'Lecture/seminar/conference/university meeting':\n",
    "        df.at[row, 'what'] = 'Study/Lectures'\n",
    "        \n",
    "    if df.what[row] == 'Phone/Video calling; Skype/Zoom/WhatsApp/Messenger or other VoIP' \\\n",
    "    or df.what[row] == 'Social life (Socialising, visiting, receiving, conversating with family, relatives, friends, classmate, visitors, neighbour, and others)' \\\n",
    "    or df.what[row] == 'Happy Hour/Drinking/Party' or df.what[row] == 'Social media (Facebook Instagram etc.)':\n",
    "        df.at[row, 'what'] = 'Social activities'\n",
    "        \n",
    "    if df.what[row] == 'Listening to music' or df.what[row] == 'Reading a book, periodicals, news, etc.' \\\n",
    "    or df.what[row] == 'Hobbies (assembling/repair apparatus/pc, gardening, etc.)' \\\n",
    "    or df.what[row] == 'Watching TV, video, YouTube, etc.' \\\n",
    "    or df.what[row] == 'Surfed or seeking, reading information via Internet' \\\n",
    "    or df.what[row] == 'In chat on Internet or reading, sending e-mail':\n",
    "        df.at[row, 'what'] = 'Free time/hobbies'\n",
    "        \n",
    "    if df.what[row] == 'Break (coffee, cigarette, drink, etc.)' or df.what[row] == 'Personal care' \\\n",
    "    or df.what[row] == 'Rest/nap'  \\\n",
    "    or df.what[row] == 'Did not do anything special (Just let the time pass, Lazed around, etc.)'\\\n",
    "    or df.what[row] == 'Eating':\n",
    "        df.at[row, 'what'] = 'Breaks'\n",
    "        "
   ]
  },
  {
   "cell_type": "code",
   "execution_count": null,
   "metadata": {},
   "outputs": [],
   "source": [
    "df.what.unique()"
   ]
  },
  {
   "cell_type": "code",
   "execution_count": null,
   "metadata": {},
   "outputs": [],
   "source": [
    "df.head()"
   ]
  },
  {
   "cell_type": "code",
   "execution_count": null,
   "metadata": {},
   "outputs": [],
   "source": [
    "df.with_who.isna().unique()"
   ]
  },
  {
   "cell_type": "code",
   "execution_count": null,
   "metadata": {},
   "outputs": [],
   "source": [
    "df.with_who.unique()"
   ]
  },
  {
   "cell_type": "markdown",
   "metadata": {},
   "source": [
    "### Recoding number of people around in the considered moment"
   ]
  },
  {
   "cell_type": "code",
   "execution_count": null,
   "metadata": {},
   "outputs": [],
   "source": [
    "# For other columns with missing values (bluetooth only), fill them \n",
    "df = df.fillna('unknown')"
   ]
  },
  {
   "cell_type": "code",
   "execution_count": null,
   "metadata": {},
   "outputs": [],
   "source": [
    "# Create bands for variables that we want to use in the model\n",
    "import ast\n",
    "for row in range(len(df)):\n",
    "    if df.bluetooth[row] != 'unknown':\n",
    "        lst = ast.literal_eval(df.bluetooth[row])\n",
    "        if len(lst)<3 and len(lst)>0:\n",
    "            df.at[row, 'Num_of_people'] = '1 - 3'\n",
    "        elif len(lst)==0:\n",
    "            df.at[row, 'Num_of_people'] = '0'\n",
    "        else:\n",
    "            df.at[row, 'Num_of_people'] = '>= 4'\n",
    "    else:\n",
    "        if df.with_who[row] == 'Alone':\n",
    "            df.at[row, 'Num_of_people'] = '0'\n",
    "        elif df.with_who[row] == 'Roommate(s)':\n",
    "            df.at[row, 'Num_of_people'] = '1 - 3'\n",
    "        else:\n",
    "            df.at[row, 'Num_of_people'] = 'unknown'"
   ]
  },
  {
   "cell_type": "markdown",
   "metadata": {},
   "source": [
    "Missing recodification for some values of 'Friend(s)', 'Relative(s)', and 'Classmate(s)'.\n",
    "\n",
    "Based on my own knowledge of the events that occured in the data collection period, I can try to reconstruct these ones as well."
   ]
  },
  {
   "cell_type": "code",
   "execution_count": null,
   "metadata": {},
   "outputs": [],
   "source": [
    "df.loc[(df['with_who'] == 'Relative(s)') & (df['Num_of_people'] == 'unknown') ]"
   ]
  },
  {
   "cell_type": "code",
   "execution_count": null,
   "metadata": {},
   "outputs": [],
   "source": [
    "# in these missing values, I was either on the phone or at my parents house, with 2/3 people,\n",
    "# so I can recodify all of them as '1-3'\n",
    "for row in range(len(df)):\n",
    "    if df.bluetooth[row] == 'unknown':\n",
    "        if df['with_who'][row] == 'Relative(s)':\n",
    "            df.at[row, 'Num_of_people'] = '1 - 3'"
   ]
  },
  {
   "cell_type": "code",
   "execution_count": null,
   "metadata": {},
   "outputs": [],
   "source": [
    "df.loc[(df['with_who'] == 'Classmate(s)') & (df['Num_of_people'] == 'unknown') ]"
   ]
  },
  {
   "cell_type": "code",
   "execution_count": null,
   "metadata": {},
   "outputs": [],
   "source": [
    "# in the case of classmates, I can assume that I was with more than 4 people when the activity is study/lectures,\n",
    "# as normally in a class there are more than 4 people around me,\n",
    "# while I can assume I was with between 1 and 3 people, if the activity is free time.\n",
    "for row in range(len(df)):\n",
    "    if df.bluetooth[row] == 'unknown':\n",
    "        if df.what[row] == 'Study/Lectures' and df['with_who'][row] == 'Classmate(s)':\n",
    "            df.at[row, 'Num_of_people'] = '>= 4'\n",
    "        elif df.what[row] == 'Free time/hobbies' or df.what[row] == 'Physical activities' and df['with_who'][row] == 'Classmate(s)':\n",
    "            df.at[row, 'Num_of_people'] = '1 - 3'"
   ]
  },
  {
   "cell_type": "code",
   "execution_count": null,
   "metadata": {},
   "outputs": [],
   "source": [
    "df.loc[(df['with_who'] == 'Friend(s)') & (df['Num_of_people'] == 'unknown') ]"
   ]
  },
  {
   "cell_type": "code",
   "execution_count": null,
   "metadata": {},
   "outputs": [],
   "source": [
    "# While all the other were pretty straight forward to fill, this one may be object of some errors,\n",
    "# some assumptions need to be made\n",
    "for row in range(len(df)):\n",
    "    if df.bluetooth[row] == 'unknown':\n",
    "        # my own room -> category 1-3 for sure\n",
    "        if df.place[row] == 'Home apartment /room' and df['with_who'][row] == 'Friend(s)':\n",
    "            df.at[row, 'Num_of_people'] = '1 - 3'\n",
    "        # given the activity and the corresponding place category, >= 4 seems to be the most probable class\n",
    "        # for these 14 data point\n",
    "        elif df.what[row] == 'Social activities' and df['with_who'][row] == 'Friend(s)':\n",
    "            df.at[row, 'Num_of_people'] = '>= 4'\n",
    "        # when shopping, I was for sure with no more than other two people\n",
    "        elif df.what[row] == 'Shopping and Household' or df.what[row] == 'Physical activities' and df['with_who'][row] == 'Friend(s)': \n",
    "            df.at[row, 'Num_of_people'] = '1 - 3'\n",
    "        elif df.place[row] == 'Restaurant, pizzeria, Street food vendor':\n",
    "            df.at[row, 'Num_of_people'] = '1 - 3'"
   ]
  },
  {
   "cell_type": "code",
   "execution_count": null,
   "metadata": {},
   "outputs": [],
   "source": [
    "df.loc[df['Num_of_people'] == 'unknown'] # no more unknown values"
   ]
  },
  {
   "cell_type": "markdown",
   "metadata": {},
   "source": [
    "### Recode subjective place"
   ]
  },
  {
   "cell_type": "code",
   "execution_count": null,
   "metadata": {},
   "outputs": [],
   "source": [
    "df[pd.isna(df.place)]"
   ]
  },
  {
   "cell_type": "code",
   "execution_count": null,
   "metadata": {},
   "outputs": [],
   "source": [
    "df.place.unique()"
   ]
  },
  {
   "cell_type": "code",
   "execution_count": null,
   "metadata": {},
   "outputs": [],
   "source": [
    "# re-code places to abbreviate some names, just for simplicity & put together similar places\n",
    "\n",
    "# df.location.unique()\n",
    "# ['Supermarket...', 'Home apartment /room', 'In the street',\n",
    "#        'Classroom / Study hall', 'Another outdoor place',\n",
    "#        'Other university place',\n",
    "#        'Shops, shopping centres, indoor markets, other shops',\n",
    "#        'Restaurant, pizzeria, Street food vendor', 'Grocery Shop',\n",
    "#        'Café, pub, bar', 'Relatives Home']\n",
    "  \n",
    "for row in range(len(df)):\n",
    "    if df.place[row] == 'Supermarket...' or df.place[row] == 'Grocery Shop':\n",
    "        df.at[row, 'place'] = 'Supermarket'\n",
    "    if df.place[row] == 'Another outdoor place' or df.place[row] == 'In the street':\n",
    "        df.at[row, 'place'] = 'Outdoor'\n",
    "    if df.place[row] == 'Home apartment /room':\n",
    "        df.at[row, 'place'] = 'Home'\n",
    "    if df.place[row] == 'Classroom / Study hall' or df.place[row] == 'Other university place':\n",
    "        df.at[row, 'place'] = 'University'\n",
    "    if df.place[row] == 'Shops, shopping centres, indoor markets, other shops':\n",
    "        df.at[row, 'place'] = 'Shops'\n",
    "    if df.place[row] == 'Restaurant, pizzeria, Street food vendor':\n",
    "        df.at[row, 'place'] = 'Restaurant'\n",
    "    if df.place[row] == 'Café, pub, bar':\n",
    "        df.at[row, 'place'] = 'Bar'\n"
   ]
  },
  {
   "cell_type": "code",
   "execution_count": null,
   "metadata": {},
   "outputs": [],
   "source": [
    "df.head()"
   ]
  },
  {
   "cell_type": "code",
   "execution_count": null,
   "metadata": {},
   "outputs": [],
   "source": [
    "# remove columns not needed for the BN\n",
    "df = df.drop(['lat', 'long', 'bluetooth', 'City', 'with_who'], axis=1)\n",
    "df"
   ]
  },
  {
   "cell_type": "markdown",
   "metadata": {},
   "source": [
    "### Recode time: \n",
    "instead of timestamps put time of the day as morning, afternoon, evening/night"
   ]
  },
  {
   "cell_type": "code",
   "execution_count": null,
   "metadata": {},
   "outputs": [],
   "source": [
    "# recod most frequent time of the day in morning - afternoon - night\n",
    "for row in range(len(df)):\n",
    "    if int(str(df.timestamp[row])[-4:-2]) <= 12:\n",
    "        df.at[row, 'time'] = 'Morning'\n",
    "    elif int(str(df.timestamp[row])[-4:-2]) < 20 and int(str(df.timestamp[row])[-4:-2]) > 12:\n",
    "        df.at[row, 'time'] = 'Afternoon'\n",
    "    else:\n",
    "        df.at[row, 'time'] = 'Evening/Night'        "
   ]
  },
  {
   "cell_type": "code",
   "execution_count": null,
   "metadata": {},
   "outputs": [],
   "source": [
    "df = df.drop(['timestamp'], axis=1)"
   ]
  },
  {
   "cell_type": "code",
   "execution_count": null,
   "metadata": {},
   "outputs": [],
   "source": [
    "df"
   ]
  },
  {
   "cell_type": "markdown",
   "metadata": {},
   "source": [
    "### Save"
   ]
  },
  {
   "cell_type": "code",
   "execution_count": null,
   "metadata": {},
   "outputs": [],
   "source": [
    "df.to_csv('BBN_data.csv')"
   ]
  },
  {
   "cell_type": "code",
   "execution_count": null,
   "metadata": {},
   "outputs": [],
   "source": []
  },
  {
   "cell_type": "code",
   "execution_count": null,
   "metadata": {},
   "outputs": [],
   "source": []
  },
  {
   "cell_type": "code",
   "execution_count": null,
   "metadata": {},
   "outputs": [],
   "source": []
  }
 ],
 "metadata": {
  "kernelspec": {
   "display_name": "Python 3 (ipykernel)",
   "language": "python",
   "name": "python3"
  },
  "language_info": {
   "codemirror_mode": {
    "name": "ipython",
    "version": 3
   },
   "file_extension": ".py",
   "mimetype": "text/x-python",
   "name": "python",
   "nbconvert_exporter": "python",
   "pygments_lexer": "ipython3",
   "version": "3.8.5"
  },
  "toc": {
   "base_numbering": 1,
   "nav_menu": {},
   "number_sections": true,
   "sideBar": true,
   "skip_h1_title": false,
   "title_cell": "Table of Contents",
   "title_sidebar": "Contents",
   "toc_cell": false,
   "toc_position": {},
   "toc_section_display": true,
   "toc_window_display": false
  }
 },
 "nbformat": 4,
 "nbformat_minor": 4
}
