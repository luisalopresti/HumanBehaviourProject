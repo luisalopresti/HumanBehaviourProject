{
 "cells": [
  {
   "cell_type": "markdown",
   "metadata": {},
   "source": [
    "# Integrating bluetooth and \"with who\" questions from timediaries to establish the number of people around in each moment and place\n",
    "The bluetooth data have been cleaned from devices non identifying people, thus they can be used to detect the number of people around in every record, encoded as 0, between 1 and 3, and 4 or more.\n",
    "In case the bluetooth data were not sufficient to cover all the records, the \"with who\" questions from the time diaries were used to fill the missing values."
   ]
  },
  {
   "cell_type": "code",
   "execution_count": null,
   "metadata": {},
   "outputs": [],
   "source": [
    "import folium\n",
    "from folium.plugins import MarkerCluster\n",
    "import pandas as pd"
   ]
  },
  {
   "cell_type": "code",
   "execution_count": null,
   "metadata": {
    "scrolled": true
   },
   "outputs": [],
   "source": [
    "df = pd.read_csv('with_who_map.csv')\n",
    "df = df.drop([\"Unnamed: 0\"], axis=1)\n",
    "df.head()"
   ]
  },
  {
   "cell_type": "code",
   "execution_count": null,
   "metadata": {},
   "outputs": [],
   "source": [
    "# For other columns with missing values, fill them \n",
    "df = df.fillna('unknown')\n",
    "\n",
    "# Create bands for variables that we want to use in the model\n",
    "import ast\n",
    "\n",
    "for row in range(len(df)):\n",
    "    if df.bluetooth[row] != 'unknown':\n",
    "        lst = ast.literal_eval(df.bluetooth[row])\n",
    "        if len(lst)<3 and len(lst)>0:\n",
    "            df.at[row, 'Num_of_people'] = '1 - 3'\n",
    "        elif len(lst)==0:\n",
    "            df.at[row, 'Num_of_people'] = '0'\n",
    "        else:\n",
    "            df.at[row, 'Num_of_people'] = '>= 4'\n",
    "    else:\n",
    "        if df.with_who[row] == 'Alone':\n",
    "            df.at[row, 'Num_of_people'] = '0'\n",
    "        elif df.with_who[row] == 'Roommate(s)':\n",
    "            df.at[row, 'Num_of_people'] = '1 - 3'\n",
    "        else:\n",
    "            df.at[row, 'Num_of_people'] = 'unknown'"
   ]
  },
  {
   "cell_type": "code",
   "execution_count": null,
   "metadata": {},
   "outputs": [],
   "source": [
    "# given the activity and the corresponding place category, put the class that is more likely to be true\n",
    "for row in range(len(df)):\n",
    "    if df.bluetooth[row] == 'unknown':\n",
    "        # family\n",
    "        if df['with_who'][row] == 'Relative(s)':\n",
    "            df.at[row, 'Num_of_people'] = '1 - 3'\n",
    "        \n",
    "        # lecture\n",
    "        elif df.what[row] == 'Lecture/seminar/conference/university meeting' and df['with_who'][row] == 'Classmate(s)':\n",
    "            df.at[row, 'Num_of_people'] = '>= 4'\n",
    "        elif df.what[row] == 'Free time/hobbies' and df['with_who'][row] == 'Classmate(s)':\n",
    "            df.at[row, 'Num_of_people'] = '1 - 3'\n",
    "            \n",
    "        # room\n",
    "        elif 'Home apartment /room' in df.places_dict[row] and df['with_who'][row] == 'Friend(s)':\n",
    "            df.at[row, 'Num_of_people'] = '1 - 3'\n",
    "        \n",
    "        # social\n",
    "        elif df.what[row] == 'Social life (Socialising, visiting, receiving, conversating with family, relatives, friends, classmate, visitors, neighbour, and others)' \\\n",
    "        or df.what[row] == 'Happy Hour/Drinking/Party' and df['with_who'][row] == 'Friend(s)':\n",
    "            df.at[row, 'Num_of_people'] = '>= 4'\n",
    "            \n",
    "        # when shopping\n",
    "        elif df.what[row] == 'Other Shopping' or df.what[row] == 'Grocery Shopping' and df['with_who'][row] == 'Friend(s)': \n",
    "            df.at[row, 'Num_of_people'] = '1 - 3'\n",
    "            \n",
    "        # sport\n",
    "        elif (df.what[row] == 'Walking' or df.what[row].startswith('Sport')) and (df['with_who'][row] == 'Friend(s)' or df['with_who'][row] == 'Classmate(s)'): \n",
    "            df.at[row, 'Num_of_people'] = '1 - 3'"
   ]
  },
  {
   "cell_type": "code",
   "execution_count": null,
   "metadata": {},
   "outputs": [],
   "source": [
    "df[df.Num_of_people=='unknown']"
   ]
  },
  {
   "cell_type": "code",
   "execution_count": null,
   "metadata": {},
   "outputs": [],
   "source": [
    "# mood function to associate emoticon to value of avg.mood\n",
    "def mood_function(mood):\n",
    "    if mood == 'unknown':\n",
    "        return \"<b>?</b>\"\n",
    "    if float(mood) < 2.0: # sad & very sad\n",
    "        return \"<img src='https://cdn-icons-png.flaticon.com/512/927/927561.png' width='20'/>\"\n",
    "    elif float(mood) >= 2 and float(mood) < 2.6: # neutral\n",
    "        return \"<img src='https://cdn-icons-png.flaticon.com/512/927/927557.png' width='20'/>\"\n",
    "    else: # >= 3 --> happy & very happy\n",
    "        return \"<img src='https://cdn-icons-png.flaticon.com/512/1023/1023656.png' width='20'/>\"\n",
    "    \n",
    "# image people around\n",
    "def num_ppl(num):\n",
    "    if num == '0':\n",
    "        return \"<img src='images_ppl/alone.png' width='40'/>\"\n",
    "    elif num == '1 - 3':\n",
    "        return \"<img src='images_ppl/small-group.png' width='70'/>\"\n",
    "    elif num == '>= 4':\n",
    "        return \"<img src='images_ppl/big-group.png' width='80'/>\"\n",
    "\n",
    "    \n",
    "# color markers by number of people around\n",
    "def color_marker(n): \n",
    "    if n=='0':\n",
    "        return 'red'\n",
    "    elif n=='1 - 3':\n",
    "        return 'orange'\n",
    "    else: # n >= 4\n",
    "        return 'green'"
   ]
  },
  {
   "cell_type": "code",
   "execution_count": null,
   "metadata": {},
   "outputs": [],
   "source": [
    "# cut address\n",
    "for row in range(len(df)):\n",
    "    lst = df.City[row].split(',')\n",
    "    # address\n",
    "    s = lst[0] + ',' + lst[1]  \n",
    "    # adding city\n",
    "    if lst[-6] not in s:\n",
    "        s = s + ',' + lst[-6]\n",
    "    elif lst[-5] not in s:\n",
    "        s = s + ',' + lst[-5]\n",
    "    # change value in df\n",
    "    df.at[row, 'City'] = s"
   ]
  },
  {
   "cell_type": "code",
   "execution_count": null,
   "metadata": {},
   "outputs": [],
   "source": [
    "import ast\n",
    "# max(ast.literal_eval(df.places_dict[4]), key=ast.literal_eval(df.places_dict[4]).get)\n",
    "\n",
    "for row in range(len(df)):\n",
    "    if df.places_dict[row]!='{}':\n",
    "        df.at[row, 'place'] = max(ast.literal_eval(df.places_dict[row]), key=ast.literal_eval(df.places_dict[row]).get)\n",
    "    else:\n",
    "        df.at[row, 'place'] = 'unknown'"
   ]
  },
  {
   "cell_type": "code",
   "execution_count": null,
   "metadata": {},
   "outputs": [],
   "source": [
    "# legend\n",
    "import branca\n",
    "\n",
    "legend_html = '''\n",
    "{% macro html(this, kwargs) %}\n",
    "<div style=\"\n",
    "    position: fixed; \n",
    "    top: 20px;\n",
    "    right: 50px;\n",
    "    width: 250px;\n",
    "    height: 110px;\n",
    "    z-index:9999;\n",
    "    font-size:14px;\n",
    "    \">\n",
    "    <p style=\"color:black;font-size:100%;margin-left:10px;\">With who?<br>(Bluetooth & time diaries)</p>\n",
    "    <p><a style=\"color:red;font-size:150%;margin-left:20px;\">&#9632;</a>&emsp;Alone</p>\n",
    "    <p><a style=\"color:orange;font-size:150%;margin-left:20px;\">&#9632;</a>&emsp;Between 1 and 3 other people</p>\n",
    "    <p><a style=\"color:green;font-size:150%;margin-left:20px;\">&#9632;</a>&emsp;4 people or more</p>\n",
    "</div>\n",
    "<div style=\"\n",
    "    position: fixed; \n",
    "    top: 10px;\n",
    "    right: 50px;\n",
    "    width: 250px;\n",
    "    height: 180px; \n",
    "    z-index:9998;\n",
    "    font-size:14px;\n",
    "    background-color: #ffffff;\n",
    "\n",
    "    opacity: 0.7;\n",
    "    \">\n",
    "</div>\n",
    "{% endmacro %}\n",
    "'''\n",
    "legend = branca.element.MacroElement()\n",
    "legend._template = branca.element.Template(legend_html)"
   ]
  },
  {
   "cell_type": "code",
   "execution_count": null,
   "metadata": {},
   "outputs": [],
   "source": [
    "# center the map around north-east of Italy\n",
    "# box = [45.65, 11.75] # lat, long\n",
    "# zoom \n",
    "box = [46.07, 11.135]\n",
    "\n",
    "# create the map\n",
    "my_map = folium.Map(location = box, zoom_start = 15)\n",
    "\n",
    "\n",
    "for row in range(len(df)): \n",
    "    pop_up = folium.Html(mood_function(df.mood[row]) + '<br>' + '<strong>Address: </strong>' + str(df.City[row]) + \n",
    "                         '<br> <strong>Subjective place: </strong>' + str(df.place[row]) + \n",
    "                         '<br><br><strong>' + num_ppl(df.Num_of_people[row]) + '<br>',\n",
    "                         #'Activity:</strong>' + '<br>' + str(df.what[row]), \n",
    "                         script=True)\n",
    "    popup = folium.Popup(pop_up, max_width=2650)\n",
    "    folium.Marker([df.lat[row], df.long[row]], popup = popup,\n",
    "                 icon=folium.Icon(color = color_marker(df.Num_of_people[row]), icon_color = 'white', icon='bluetooth-b', prefix='fa')).add_to(my_map)\n",
    "\n",
    "my_map.get_root().add_child(legend) # add legend\n",
    "my_map\n"
   ]
  },
  {
   "cell_type": "code",
   "execution_count": null,
   "metadata": {},
   "outputs": [],
   "source": [
    "my_map.save('bluetooth_map.html')"
   ]
  }
 ],
 "metadata": {
  "kernelspec": {
   "display_name": "Python 3 (ipykernel)",
   "language": "python",
   "name": "python3"
  },
  "language_info": {
   "codemirror_mode": {
    "name": "ipython",
    "version": 3
   },
   "file_extension": ".py",
   "mimetype": "text/x-python",
   "name": "python",
   "nbconvert_exporter": "python",
   "pygments_lexer": "ipython3",
   "version": "3.8.5"
  },
  "toc": {
   "base_numbering": 1,
   "nav_menu": {},
   "number_sections": true,
   "sideBar": true,
   "skip_h1_title": false,
   "title_cell": "Table of Contents",
   "title_sidebar": "Contents",
   "toc_cell": false,
   "toc_position": {},
   "toc_section_display": true,
   "toc_window_display": false
  }
 },
 "nbformat": 4,
 "nbformat_minor": 4
}
