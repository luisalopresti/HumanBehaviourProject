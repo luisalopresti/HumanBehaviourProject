{
 "cells": [
  {
   "cell_type": "markdown",
   "metadata": {},
   "source": [
    "## Mood map"
   ]
  },
  {
   "cell_type": "code",
   "execution_count": null,
   "metadata": {},
   "outputs": [],
   "source": [
    "import folium\n",
    "from folium.plugins import MarkerCluster\n",
    "import pandas as pd\n",
    "import ast"
   ]
  },
  {
   "cell_type": "code",
   "execution_count": null,
   "metadata": {},
   "outputs": [],
   "source": [
    "# center the map around north-east of Italy\n",
    "box = [45.65, 11.75] # lat, long\n",
    "\n",
    "# create the map\n",
    "my_map = folium.Map(location = box, zoom_start = 9)"
   ]
  },
  {
   "cell_type": "code",
   "execution_count": null,
   "metadata": {},
   "outputs": [],
   "source": [
    "df = pd.read_csv('mood_map.csv')\n",
    "df = df.drop([\"Unnamed: 0\"], axis=1)\n",
    "df.head()"
   ]
  },
  {
   "cell_type": "code",
   "execution_count": null,
   "metadata": {},
   "outputs": [],
   "source": [
    "for row in range(len(df)):\n",
    "    if df.places_dict[row].startswith('{'):\n",
    "        pl = ast.literal_eval(df.places_dict[row])\n",
    "        all_values = pl.values()\n",
    "        max_value = max(all_values)\n",
    "        for k in pl.keys():\n",
    "            if pl[k] == max_value:\n",
    "                df.at[row, 'place'] = k   \n",
    "    else:\n",
    "        pl = df.places_dict[row]\n",
    "        df.at[row, 'place'] = pl\n",
    "\n",
    "df = df.drop([\"places_dict\"], axis=1)\n",
    "df.head()"
   ]
  },
  {
   "cell_type": "code",
   "execution_count": null,
   "metadata": {},
   "outputs": [],
   "source": [
    "# mood function to associate emoticon to value of avg.mood\n",
    "def mood_function(avg_mood):\n",
    "    if avg_mood <2: # sad & very sad\n",
    "        return \"<img src='https://cdn-icons-png.flaticon.com/512/927/927561.png' width='20'/>\"\n",
    "    elif avg_mood >= 2 and avg_mood < 2.6: # neutral\n",
    "        return \"<img src='https://cdn-icons-png.flaticon.com/512/927/927557.png' width='20'/>\"\n",
    "    else: # avg_mood >= 3 --> happy & very happy\n",
    "        return \"<img src='https://cdn-icons-png.flaticon.com/512/1023/1023656.png' width='20'/>\""
   ]
  },
  {
   "cell_type": "code",
   "execution_count": null,
   "metadata": {},
   "outputs": [],
   "source": [
    "df.frequency.unique()"
   ]
  },
  {
   "cell_type": "code",
   "execution_count": null,
   "metadata": {},
   "outputs": [],
   "source": [
    "print(df.avg_mood.min(), df.avg_mood.max())"
   ]
  },
  {
   "cell_type": "code",
   "execution_count": null,
   "metadata": {},
   "outputs": [],
   "source": [
    "'''\n",
    "\"Frequency\" column reports the (absolute) counting of the number of times the location have been visited in the two weeks of\n",
    "data collection.\n",
    "Considering the short period of time, here it is assumed that if the place is found more than 10 times, then it is an important\n",
    "location wrt the subject, thus highlighted in the map with the green marker.\n",
    "'''\n",
    "def color_marker(f): \n",
    "    if f < 5:\n",
    "        return 'red'\n",
    "    elif f >= 5 and f <= 10:\n",
    "        return 'orange'\n",
    "    else: # f > 10\n",
    "        return 'green'"
   ]
  },
  {
   "cell_type": "code",
   "execution_count": null,
   "metadata": {},
   "outputs": [],
   "source": [
    "# check all possible activities\n",
    "s = set()\n",
    "for row in range(len(df)):\n",
    "    for el in ast.literal_eval(df.what_lst[row]):\n",
    "        s.add(el)\n",
    "s"
   ]
  },
  {
   "cell_type": "code",
   "execution_count": null,
   "metadata": {},
   "outputs": [],
   "source": [
    "# top-3 of the most done activities by location\n",
    "import ast\n",
    "from collections import Counter\n",
    "for row in range(len(df)):\n",
    "    what_list = ast.literal_eval(df.what_lst[row])\n",
    "    what_dict_act_counts = Counter(what_list) # convert what_list into a dictionary having as keys the activities and as values the num of time that activity appear in the list\n",
    "    # getting top-3 keys having highest value (highest num of counts for that activity in this specific location)\n",
    "    most_common = sorted(what_dict_act_counts, key=what_dict_act_counts.get, reverse=True)[:3] # first el in the list is the top-1 activity\n",
    "    df.at[row, 'Top3'] = most_common\n",
    "    \n",
    "for row in range(len(df)):\n",
    "    what_list = ast.literal_eval(df.what_lst[row])\n",
    "    what_dict_act_counts = Counter(what_list) # convert what_list into a dictionary having as keys the activities and as values the num of time that activity appear in the list\n",
    "    # getting top-3 keys having highest value (highest num of counts for that activity in this specific location)\n",
    "    # most_common = sorted(what_dict_act_counts, key=what_dict_act_counts.get, reverse=True)[:3] # first el in the list is the top-1 activity\n",
    "    most_common = what_dict_act_counts.most_common(3) # top-3 with also the countings\n",
    "    df.at[row, 'Top3'] = most_common\n",
    "df"
   ]
  },
  {
   "cell_type": "code",
   "execution_count": null,
   "metadata": {},
   "outputs": [],
   "source": [
    "# not used\n",
    "def top3_activities_by_place(row):\n",
    "    import matplotlib.pyplot as plt; plt.rcdefaults()\n",
    "    import numpy as np\n",
    "    import matplotlib.pyplot as plt\n",
    "    \n",
    "    #for row in range(len(df)):\n",
    "    x = []\n",
    "    ticks_act = []\n",
    "    for el in range(len(df.Top3[row])):\n",
    "        x.append(df.Top3[row][el][1])\n",
    "        ticks_act.append(df.Top3[row][el][0])\n",
    "    y = np.arange(len(df.Top3[row]))\n",
    "    \n",
    "    ticks = []\n",
    "    for word in ticks_act:\n",
    "        label = word.split(' ')\n",
    "        ticks.append(' '.join(l + '\\n' * (n % 3 == 2) for n, l in enumerate(label)))\n",
    "        \n",
    "    ticks_y = []\n",
    "    for el in range(0, len(df.Top3[row])+2):\n",
    "        ticks_y.append(el)\n",
    "        \n",
    "    plt.bar(y, x, align='center', alpha=0.5)\n",
    "    plt.xticks(y, ticks, rotation=0, horizontalalignment='center')\n",
    "    plt.yticks(ticks_y)\n",
    "    plt.ylabel('')\n",
    "    plt.title('Activities')\n",
    "\n",
    "    plt.show()\n",
    "        \n",
    "top3_activities_by_place(3)"
   ]
  },
  {
   "cell_type": "code",
   "execution_count": null,
   "metadata": {},
   "outputs": [],
   "source": [
    "def top3_activities(row):\n",
    "    act = []\n",
    "    for el in range(len(df.Top3[row])):\n",
    "        act.append(df.Top3[row][el][0])\n",
    "    a = ''\n",
    "    for word in range(len(act)):\n",
    "        label = act[word].split(' ')\n",
    "        a = a + '<strong>' + str(word+1) + '. </strong>' + ' '.join(label) + '<br>'\n",
    "    return a\n",
    "\n",
    "top3_activities(3)"
   ]
  },
  {
   "cell_type": "code",
   "execution_count": null,
   "metadata": {},
   "outputs": [],
   "source": [
    "# cut address\n",
    "for row in range(len(df)):\n",
    "    lst = df.City[row].split(',')\n",
    "    # address\n",
    "    s = lst[0] + ',' + lst[1]  \n",
    "    # adding city\n",
    "    if lst[-6] not in s:\n",
    "        s = s + ',' + lst[-6]\n",
    "    elif lst[-5] not in s:\n",
    "        s = s + ',' + lst[-5]\n",
    "    # change value in df\n",
    "    df.at[row, 'City'] = s"
   ]
  },
  {
   "cell_type": "code",
   "execution_count": null,
   "metadata": {},
   "outputs": [],
   "source": [
    "# legend\n",
    "import branca\n",
    "\n",
    "legend_html = '''\n",
    "{% macro html(this, kwargs) %}\n",
    "<div style=\"\n",
    "    position: fixed; \n",
    "    bottom: 50px;\n",
    "    left: 50px;\n",
    "    width: 250px;\n",
    "    height: 110px;\n",
    "    z-index:9999;\n",
    "    font-size:14px;\n",
    "    \">\n",
    "    <p style=\"color:black;font-size:100%;margin-left:10px;\">Importance (frequency)</p>\n",
    "    <p><a style=\"color:red;font-size:150%;margin-left:20px;\">&#9632;</a>&emsp;Less than 5 times</p>\n",
    "    <p><a style=\"color:orange;font-size:150%;margin-left:20px;\">&#9632;</a>&emsp;From 5 to 10 times</p>\n",
    "    <p><a style=\"color:green;font-size:150%;margin-left:20px;\">&#9632;</a>&emsp;More than 10 times</p>\n",
    "</div>\n",
    "<div style=\"\n",
    "    position: fixed; \n",
    "    bottom: 10px;\n",
    "    left: 50px;\n",
    "    width: 200px;\n",
    "    height: 160px; \n",
    "    z-index:9998;\n",
    "    font-size:14px;\n",
    "    background-color: #ffffff;\n",
    "\n",
    "    opacity: 0.7;\n",
    "    \">\n",
    "</div>\n",
    "{% endmacro %}\n",
    "'''\n",
    "legend = branca.element.MacroElement()\n",
    "legend._template = branca.element.Template(legend_html)"
   ]
  },
  {
   "cell_type": "code",
   "execution_count": null,
   "metadata": {},
   "outputs": [],
   "source": [
    "# center the map around north-east of Italy\n",
    "box = [45.65, 11.75] # lat, long\n",
    "\n",
    "# create the map\n",
    "my_map = folium.Map(location = box, zoom_start = 9)\n",
    "\n",
    "\n",
    "for row in range(len(df)): \n",
    "    pop_up = folium.Html(mood_function(df.avg_mood[row]) + '<br>' + str(round(df.avg_mood[row],2)) + '<br>' + '<strong>Address: </strong>' + str(df.City[row]) +\n",
    "                         '<br> <strong>Subjective place: </strong>' + str(df.place[row]) + '<br><br><strong>' + \n",
    "                         'Top-3 activities by location:</strong>' + '<br>' + top3_activities(row), script=True)\n",
    "    popup = folium.Popup(pop_up, max_width=2650)\n",
    "    folium.Marker([df.lat[row], df.long[row]], popup = popup,\n",
    "                 icon=folium.Icon(color = color_marker(df.frequency[row]), icon_color = 'white')).add_to(my_map)\n",
    "\n",
    "my_map.get_root().add_child(legend) # add legend\n",
    "my_map\n"
   ]
  },
  {
   "cell_type": "code",
   "execution_count": null,
   "metadata": {},
   "outputs": [],
   "source": [
    "# my_map.save('mood_map.html')"
   ]
  },
  {
   "cell_type": "code",
   "execution_count": null,
   "metadata": {},
   "outputs": [],
   "source": [
    "# zoom \n",
    "box = [46.1, 11.1] # lat, long\n",
    "\n",
    "my_map = folium.Map(location = box, zoom_start = 15)\n",
    "\n",
    "for row in range(len(df)):\n",
    "    pop_up = folium.Html(mood_function(df.avg_mood[row]) + '<br>' + str(round(df.avg_mood[row],2)) + '<br>' + '<strong>Address: </strong>' + str(df.City[row]) +\n",
    "                         '<br> <strong>Subjective place: </strong>' + str(df.place[row]) + '<br><br><strong>' + \n",
    "                         'Top-3 activities by location:</strong>' + '<br>' + top3_activities(row), script=True)\n",
    "    popup = folium.Popup(pop_up, max_width=2650)\n",
    "    folium.Marker([df.lat[row], df.long[row]], popup = popup,\n",
    "                 icon=folium.Icon(color = color_marker(df.frequency[row]), icon_color = 'white')).add_to(my_map)\n",
    "\n",
    "    \n",
    "my_map.get_root().add_child(legend)\n",
    "my_map"
   ]
  },
  {
   "cell_type": "code",
   "execution_count": null,
   "metadata": {},
   "outputs": [],
   "source": [
    "# zoom\n",
    "box = [45.5, 12.8]\n",
    "\n",
    "my_map = folium.Map(location = box, zoom_start = 14)\n",
    "\n",
    "for row in range(len(df)):\n",
    "    pop_up = folium.Html(mood_function(df.avg_mood[row]) + '<br>' + str(round(df.avg_mood[row],2)) + '<br>' + '<strong>Address: </strong>' + str(df.City[row]) +\n",
    "                         '<br> <strong>Subjective place: </strong>' + str(df.place[row]) + '<br><br><strong>' + \n",
    "                         'Top-3 activities by location:</strong>' + '<br>' + top3_activities(row), script=True)\n",
    "    popup = folium.Popup(pop_up, max_width=2650)\n",
    "    folium.Marker([df.lat[row], df.long[row]], popup = popup,\n",
    "                 icon=folium.Icon(color = color_marker(df.frequency[row]), icon_color = 'white')).add_to(my_map)\n",
    "    \n",
    "\n",
    "my_map.get_root().add_child(legend)\n",
    "my_map"
   ]
  },
  {
   "cell_type": "code",
   "execution_count": null,
   "metadata": {},
   "outputs": [],
   "source": []
  },
  {
   "cell_type": "code",
   "execution_count": null,
   "metadata": {},
   "outputs": [],
   "source": [
    "poi_df = df[df['frequency'] > 10] # only green points (PoI)\n",
    "poi_df"
   ]
  },
  {
   "cell_type": "code",
   "execution_count": null,
   "metadata": {},
   "outputs": [],
   "source": []
  }
 ],
 "metadata": {
  "kernelspec": {
   "display_name": "Python 3 (ipykernel)",
   "language": "python",
   "name": "python3"
  },
  "language_info": {
   "codemirror_mode": {
    "name": "ipython",
    "version": 3
   },
   "file_extension": ".py",
   "mimetype": "text/x-python",
   "name": "python",
   "nbconvert_exporter": "python",
   "pygments_lexer": "ipython3",
   "version": "3.8.5"
  },
  "toc": {
   "base_numbering": 1,
   "nav_menu": {},
   "number_sections": true,
   "sideBar": true,
   "skip_h1_title": false,
   "title_cell": "Table of Contents",
   "title_sidebar": "Contents",
   "toc_cell": false,
   "toc_position": {},
   "toc_section_display": true,
   "toc_window_display": false
  }
 },
 "nbformat": 4,
 "nbformat_minor": 4
}
