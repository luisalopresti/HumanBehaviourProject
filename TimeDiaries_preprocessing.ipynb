{
 "cells": [
  {
   "cell_type": "markdown",
   "metadata": {},
   "source": [
    "## Timediaries"
   ]
  },
  {
   "cell_type": "code",
   "execution_count": null,
   "metadata": {},
   "outputs": [],
   "source": [
    "import pandas as pd"
   ]
  },
  {
   "cell_type": "code",
   "execution_count": null,
   "metadata": {},
   "outputs": [],
   "source": [
    "diaries = pd.read_csv('SHB_data_luisa/timediariesanswers.csv')"
   ]
  },
  {
   "cell_type": "code",
   "execution_count": null,
   "metadata": {},
   "outputs": [],
   "source": [
    "diaries.head()"
   ]
  },
  {
   "cell_type": "code",
   "execution_count": null,
   "metadata": {},
   "outputs": [],
   "source": [
    "diaries = diaries.drop([\"experimentid\", \"userid\", \"instanceid\", \"notificationtimestamp\", \"answerduration\", \"day\", \"answertimestamp\", \"payload\"], axis=1)"
   ]
  },
  {
   "cell_type": "code",
   "execution_count": null,
   "metadata": {},
   "outputs": [],
   "source": [
    "diaries\n",
    "# instancetimestamp --> time in which the notification was sent\n",
    "# delta --> the difference between answer and notification times, in milliseconds \n",
    "# answer --> json with the answers"
   ]
  },
  {
   "cell_type": "markdown",
   "metadata": {},
   "source": [
    "## Timestamp preprocessing"
   ]
  },
  {
   "cell_type": "code",
   "execution_count": null,
   "metadata": {},
   "outputs": [],
   "source": [
    "diaries['instancetimestamp'].isnull().values.any()"
   ]
  },
  {
   "cell_type": "code",
   "execution_count": null,
   "metadata": {},
   "outputs": [],
   "source": [
    "# remname \"instancetimestamp\" as \"timestamp\"\n",
    "diaries = diaries.rename(columns={\"instancetimestamp\": \"timestamp\"})"
   ]
  },
  {
   "cell_type": "code",
   "execution_count": null,
   "metadata": {},
   "outputs": [],
   "source": [
    "diaries"
   ]
  },
  {
   "cell_type": "code",
   "execution_count": null,
   "metadata": {},
   "outputs": [],
   "source": [
    "# remove seconds and decimals\n",
    "diaries.timestamp = diaries.timestamp.astype(str)\n",
    "diaries.timestamp = diaries.timestamp.apply(lambda x: x[0:12])\n",
    "diaries"
   ]
  },
  {
   "cell_type": "markdown",
   "metadata": {},
   "source": [
    "##"
   ]
  },
  {
   "cell_type": "markdown",
   "metadata": {},
   "source": [
    "##  Answer processing: identifying all possible cases:"
   ]
  },
  {
   "cell_type": "markdown",
   "metadata": {},
   "source": [
    "### Four question time diaries (what, where, with who, mood)"
   ]
  },
  {
   "cell_type": "code",
   "execution_count": null,
   "metadata": {},
   "outputs": [],
   "source": [
    "diaries.answer[400] # filled"
   ]
  },
  {
   "cell_type": "markdown",
   "metadata": {},
   "source": [
    "### Expired time diaries"
   ]
  },
  {
   "cell_type": "code",
   "execution_count": null,
   "metadata": {},
   "outputs": [],
   "source": [
    "diaries.answer[4] # expired"
   ]
  },
  {
   "cell_type": "markdown",
   "metadata": {},
   "source": [
    "Filled time diaries and expired time diaries, both present 4 look-like dictionary elements, thus can be treated as a single case (i.e. in the case of expired time diaries, the \"what\" answer will be \"expired\", the \"with who\" and \"where\" answers will be \"null\" and the \"mood\" will be 0)."
   ]
  },
  {
   "cell_type": "markdown",
   "metadata": {},
   "source": [
    "### Snoozed time diaries"
   ]
  },
  {
   "cell_type": "code",
   "execution_count": null,
   "metadata": {},
   "outputs": [],
   "source": [
    "diaries.answer[0] # snoozed"
   ]
  },
  {
   "cell_type": "markdown",
   "metadata": {},
   "source": [
    "### Food and drinks questions (asked two hours outside the main meals)"
   ]
  },
  {
   "cell_type": "code",
   "execution_count": null,
   "metadata": {},
   "outputs": [],
   "source": [
    "diaries.answer[37] # one/two questions (about food and drinks)"
   ]
  },
  {
   "cell_type": "code",
   "execution_count": null,
   "metadata": {},
   "outputs": [],
   "source": [
    "diaries[37:38] # at midnight"
   ]
  },
  {
   "cell_type": "markdown",
   "metadata": {},
   "source": [
    "### Start of the day (8am)"
   ]
  },
  {
   "cell_type": "code",
   "execution_count": null,
   "metadata": {},
   "outputs": [],
   "source": [
    "'''\n",
    "i=0\n",
    "for t in diaries.timestamp:\n",
    "    i+=1\n",
    "    if t.endswith('0800'):\n",
    "        print(diaries[i:i+1])\n",
    "'''"
   ]
  },
  {
   "cell_type": "code",
   "execution_count": null,
   "metadata": {},
   "outputs": [],
   "source": [
    "diaries.answer[701]  # two questions (sleep quality & expectations on the day)"
   ]
  },
  {
   "cell_type": "code",
   "execution_count": null,
   "metadata": {},
   "outputs": [],
   "source": [
    "diaries[701:702]"
   ]
  },
  {
   "cell_type": "markdown",
   "metadata": {},
   "source": [
    "### End of the day time diaries (two/three questions at 10pm)"
   ]
  },
  {
   "cell_type": "markdown",
   "metadata": {},
   "source": [
    "- question at 10:00 PM:\n",
    "asked (a) to rate their day; (b) if they had any problems during the day and (c) how they solve them."
   ]
  },
  {
   "cell_type": "code",
   "execution_count": null,
   "metadata": {},
   "outputs": [],
   "source": [
    "diaries.answer[43] # how was your day aka daily mood / did you had problem today"
   ]
  },
  {
   "cell_type": "code",
   "execution_count": null,
   "metadata": {},
   "outputs": [],
   "source": [
    "diaries[43:44] # at 10pm"
   ]
  },
  {
   "cell_type": "markdown",
   "metadata": {},
   "source": [
    "### Other 3 particular cases:"
   ]
  },
  {
   "cell_type": "markdown",
   "metadata": {},
   "source": [
    "1. When the answer to \"what are you doing?\" is \"Travelling\", different questions are asked after, namely \"what is the reson of the travel?\" and \"which means of transport you are using?\".\n",
    "\n",
    "2. If the answer to \"what are you doing?\" is \"Sport\", besides \"where\", \"with who\" and \"mood\", there is another question added (\"which sport?\").\n",
    "\n",
    "3. If the answer to \"what are you doing?\" is \"Eating\", besides \"where\", \"with who\" and \"mood\", there is another question added (\"what are you eating?\")"
   ]
  },
  {
   "cell_type": "markdown",
   "metadata": {},
   "source": [
    "## Testing time diaries recoding"
   ]
  },
  {
   "cell_type": "code",
   "execution_count": null,
   "metadata": {},
   "outputs": [],
   "source": [
    "a = diaries.answer[38]\n",
    "\n",
    "import re\n",
    "# regular expression\n",
    "# re.findall(\"START.*?(?:END|ALTERNATIVE_END|ALTERNATIVE_END2)\", s)\n",
    "re.findall(\"{.*?(?:})\", a)"
   ]
  },
  {
   "cell_type": "code",
   "execution_count": null,
   "metadata": {},
   "outputs": [],
   "source": [
    "r = re.findall(\"{.*?(?:})\", a) # list of strings, where each string is in reality dictionary-looklike\n",
    "\n",
    "import json\n",
    "# convert dictionary string to dictionary\n",
    "res = []\n",
    "for stringa in r:\n",
    "    res.append(json.loads(stringa))"
   ]
  },
  {
   "cell_type": "code",
   "execution_count": null,
   "metadata": {},
   "outputs": [],
   "source": [
    "res"
   ]
  },
  {
   "cell_type": "code",
   "execution_count": null,
   "metadata": {},
   "outputs": [],
   "source": [
    "type(res[0])"
   ]
  },
  {
   "cell_type": "code",
   "execution_count": null,
   "metadata": {},
   "outputs": [],
   "source": [
    "res[0][\"cnt\"]"
   ]
  },
  {
   "cell_type": "markdown",
   "metadata": {},
   "source": [
    "## Recode time diaries"
   ]
  },
  {
   "cell_type": "code",
   "execution_count": null,
   "metadata": {},
   "outputs": [],
   "source": [
    "import json\n",
    "import re\n",
    "\n",
    "# what, where, with who, mood\n",
    "what_lst = [] # first question of filled, expired and snoozed here\n",
    "where_lst = []\n",
    "with_who_lst = []\n",
    "mood_lst = []\n",
    "    \n",
    "# 8am questions \n",
    "sleep = []\n",
    "pred_day = []\n",
    "    \n",
    "# 10pm questions \n",
    "daily_mood = []\n",
    "probl = []\n",
    "solution = []\n",
    "    \n",
    "# food/drinks during breaks\n",
    "yn = []\n",
    "food = []\n",
    "    \n",
    "for a in diaries.answer:\n",
    "    # convert answer in list of dictionaries\n",
    "    r = re.findall(\"{.*?(?:})\", a)\n",
    "    res = []\n",
    "    for stringa in r:\n",
    "        res.append(json.loads(stringa))\n",
    "    \n",
    "    # filled or expired\n",
    "    if len(res)==4:\n",
    "        what_lst.append(res[0][\"cnt\"])\n",
    "        if res[1][\"cnt\"] == 'null':\n",
    "            # expired\n",
    "            where_lst.append('NaN')\n",
    "            with_who_lst.append('NaN')\n",
    "            mood_lst.append('NaN')\n",
    "        else:\n",
    "            # filled\n",
    "            where_lst.append(res[1][\"cnt\"])\n",
    "            with_who_lst.append(res[2][\"cnt\"])\n",
    "            mood_lst.append(res[3][\"cnt\"])\n",
    "        # all the other null\n",
    "        sleep.append('NaN')\n",
    "        pred_day.append('NaN')\n",
    "        daily_mood.append('NaN')\n",
    "        probl.append('NaN')\n",
    "        solution.append('NaN')\n",
    "        yn.append('NaN')\n",
    "        food.append('NaN')\n",
    "        \n",
    "    elif len(res)>4 and res[0]['cnt']=='Eating':\n",
    "        # if what==eating, there is another question added (\"what are you eating?\")\n",
    "        what_lst.append(res[0][\"cnt\"])\n",
    "        where_lst.append(res[-3][\"cnt\"])\n",
    "        with_who_lst.append(res[-2][\"cnt\"])\n",
    "        mood_lst.append(res[-1][\"cnt\"])\n",
    "        f = []\n",
    "        for el in range(len(res[-len(res):-3])):\n",
    "            if res[el][\"cnt\"] != 'Eating':\n",
    "                f.append(res[el][\"cnt\"])\n",
    "        food.append(f)\n",
    "        # all the other null\n",
    "        sleep.append('NaN')\n",
    "        pred_day.append('NaN')\n",
    "        daily_mood.append('NaN')\n",
    "        probl.append('NaN')\n",
    "        solution.append('NaN')\n",
    "        yn.append('NaN')\n",
    "    \n",
    "    elif len(res)>4 and res[0]['cnt']=='Sport':\n",
    "        # if what==sport, there is another question added (\"which sport?\")\n",
    "        what_lst.append(res[0][\"cnt\"] + ': ' + res[1][\"cnt\"])\n",
    "        where_lst.append(res[2][\"cnt\"])\n",
    "        with_who_lst.append(res[3][\"cnt\"])\n",
    "        mood_lst.append(res[4][\"cnt\"])\n",
    "        # all the other null\n",
    "        sleep.append('NaN')\n",
    "        pred_day.append('NaN')\n",
    "        daily_mood.append('NaN')\n",
    "        probl.append('NaN')\n",
    "        solution.append('NaN')\n",
    "        yn.append('NaN')\n",
    "        food.append('NaN')\n",
    "        \n",
    "    \n",
    "    elif len(res)==1:\n",
    "        # either food or snoozed\n",
    "        if res[0][\"cnt\"]=='No':\n",
    "            # it means it's a food/drink question -> first answer is \"no\" food, thus \"what food\" not asked\n",
    "            yn.append('No')\n",
    "            food.append('NaN')\n",
    "            # all the other null\n",
    "            sleep.append('NaN')\n",
    "            pred_day.append('NaN')\n",
    "            daily_mood.append('NaN')\n",
    "            probl.append('NaN')\n",
    "            solution.append('NaN')\n",
    "            what_lst.append('NaN')\n",
    "            where_lst.append('NaN')\n",
    "            with_who_lst.append('NaN')\n",
    "            mood_lst.append('NaN')\n",
    "        else:\n",
    "            # it's a snoozed question\n",
    "            what_lst.append(res[0][\"cnt\"])\n",
    "            where_lst.append('NaN')\n",
    "            with_who_lst.append('NaN')\n",
    "            mood_lst.append('NaN')\n",
    "            # all the other null\n",
    "            sleep.append('NaN')\n",
    "            pred_day.append('NaN')\n",
    "            daily_mood.append('NaN')\n",
    "            probl.append('NaN')\n",
    "            solution.append('NaN')\n",
    "            yn.append('NaN')\n",
    "            food.append('NaN')\n",
    "    \n",
    "    elif len(res)==2:\n",
    "        if res[0][\"cnt\"].startswith('Yes'):\n",
    "            # it means it's a food/drink question -> first answer is \"yes\", thus also asked \"what food\" \n",
    "            yn.append('Yes')\n",
    "            food.append(res[1][\"cnt\"])\n",
    "            # all the other null\n",
    "            sleep.append('NaN')\n",
    "            pred_day.append('NaN')\n",
    "            daily_mood.append('NaN')\n",
    "            probl.append('NaN')\n",
    "            solution.append('NaN')\n",
    "            what_lst.append('NaN')\n",
    "            where_lst.append('NaN')\n",
    "            with_who_lst.append('NaN')\n",
    "            mood_lst.append('NaN')\n",
    "            \n",
    "        elif res[1][\"cnt\"]=='No':\n",
    "            # 10pm question about the day\n",
    "            # the answer to the 2nd question is Yes/No in the case the question was \"did you have any problem today\"\n",
    "            # and the answer was \"no\", so the 3rd question about the solution found was not asked\n",
    "            daily_mood.append(res[0][\"cnt\"])\n",
    "            probl.append(res[1][\"cnt\"])\n",
    "            solution.append('NaN')\n",
    "            # all the other null\n",
    "            sleep.append('NaN')\n",
    "            pred_day.append('NaN')\n",
    "            what_lst.append('NaN')\n",
    "            where_lst.append('NaN')\n",
    "            with_who_lst.append('NaN')\n",
    "            mood_lst.append('NaN')\n",
    "            yn.append('NaN')\n",
    "            food.append('NaN')\n",
    "        else: \n",
    "            # last case when len=2: it's a 8am question\n",
    "            sleep.append(res[0][\"cnt\"])\n",
    "            pred_day.append(res[1][\"cnt\"])\n",
    "            # all the other null\n",
    "            what_lst.append('NaN')\n",
    "            where_lst.append('NaN')\n",
    "            with_who_lst.append('NaN')\n",
    "            mood_lst.append('NaN')\n",
    "            yn.append('NaN')\n",
    "            food.append('NaN')\n",
    "            daily_mood.append('NaN')\n",
    "            probl.append('NaN')\n",
    "            solution.append('NaN')\n",
    "        \n",
    "    else: # len(res)==3\n",
    "        # it's a 10pm question, the answer to the \"did you have problem today\" questionn was \"yes\",\n",
    "        # thus the 3rd question about what solution you found was also asked\n",
    "        if res[0]['cnt']=='Travelling':\n",
    "            # when what==travelling it asked for the reason why you are travelling and the means of transport\n",
    "            what_lst.append(res[0]['cnt'] + ' for: ' + res[1]['cnt'] + ', ' + res[2]['cnt'])\n",
    "            daily_mood.append('NaN') \n",
    "            probl.append('NaN')\n",
    "            solution.append('NaN')\n",
    "        else:\n",
    "            daily_mood.append(res[0][\"cnt\"]) \n",
    "            probl.append(res[1][\"cnt\"])\n",
    "            solution.append(res[2][\"cnt\"])\n",
    "            what_lst.append('NaN')\n",
    "        # all the other null\n",
    "        sleep.append('NaN')\n",
    "        pred_day.append('NaN')\n",
    "        where_lst.append('NaN')\n",
    "        with_who_lst.append('NaN')\n",
    "        mood_lst.append('NaN')\n",
    "        yn.append('NaN')\n",
    "        food.append('NaN')"
   ]
  },
  {
   "cell_type": "code",
   "execution_count": null,
   "metadata": {},
   "outputs": [],
   "source": [
    "# add columns to dataframe\n",
    "diaries['what'] = what_lst\n",
    "diaries['where'] = where_lst\n",
    "diaries['with_who'] = with_who_lst\n",
    "diaries['mood'] = mood_lst\n",
    "\n",
    "# 8am questions \n",
    "diaries['sleep_quality'] = sleep \n",
    "diaries['pred_day'] = pred_day\n",
    "    \n",
    "# 10pm questions \n",
    "diaries['daily_mood'] = daily_mood \n",
    "diaries['problem'] = probl \n",
    "diaries['solution'] = solution \n",
    "    \n",
    "# food/drinks during breaks\n",
    "diaries['yn_food'] = yn \n",
    "diaries['food'] = food "
   ]
  },
  {
   "cell_type": "code",
   "execution_count": null,
   "metadata": {},
   "outputs": [],
   "source": [
    "diaries"
   ]
  },
  {
   "cell_type": "code",
   "execution_count": null,
   "metadata": {
    "scrolled": true
   },
   "outputs": [],
   "source": [
    "# remove column with answers before cleansing\n",
    "diaries = diaries.drop([\"answer\"], axis=1)\n",
    "diaries"
   ]
  },
  {
   "cell_type": "markdown",
   "metadata": {},
   "source": [
    "## Recodify mood: from emoji to number (add in a new column)"
   ]
  },
  {
   "cell_type": "code",
   "execution_count": null,
   "metadata": {},
   "outputs": [],
   "source": [
    "diaries.mood.unique()"
   ]
  },
  {
   "cell_type": "code",
   "execution_count": null,
   "metadata": {},
   "outputs": [],
   "source": [
    "num_mood = []\n",
    "# 0 ; '🙁' = 1, '😐' = 2, '🙂' = 3, '😁' = 4\n",
    "for a in diaries.mood:\n",
    "    if a == '😐':\n",
    "        num_mood.append(2)\n",
    "    elif a == '🙂':\n",
    "        num_mood.append(3)\n",
    "    elif a == '🙁':\n",
    "        num_mood.append(1)\n",
    "    elif a == '😁':\n",
    "        num_mood.append(4)\n",
    "    else: # a == 'NaN'\n",
    "        num_mood.append('NaN')\n",
    "# add column to df\n",
    "diaries['num_mood'] = num_mood"
   ]
  },
  {
   "cell_type": "code",
   "execution_count": null,
   "metadata": {},
   "outputs": [],
   "source": [
    "diaries"
   ]
  },
  {
   "cell_type": "markdown",
   "metadata": {},
   "source": [
    "## Save processed dataset"
   ]
  },
  {
   "cell_type": "code",
   "execution_count": null,
   "metadata": {},
   "outputs": [],
   "source": [
    "# save\n",
    "diaries.to_csv('timediaries.csv')"
   ]
  },
  {
   "cell_type": "code",
   "execution_count": null,
   "metadata": {},
   "outputs": [],
   "source": []
  }
 ],
 "metadata": {
  "kernelspec": {
   "display_name": "Python 3 (ipykernel)",
   "language": "python",
   "name": "python3"
  },
  "language_info": {
   "codemirror_mode": {
    "name": "ipython",
    "version": 3
   },
   "file_extension": ".py",
   "mimetype": "text/x-python",
   "name": "python",
   "nbconvert_exporter": "python",
   "pygments_lexer": "ipython3",
   "version": "3.8.5"
  },
  "toc": {
   "base_numbering": 1,
   "nav_menu": {},
   "number_sections": true,
   "sideBar": true,
   "skip_h1_title": false,
   "title_cell": "Table of Contents",
   "title_sidebar": "Contents",
   "toc_cell": false,
   "toc_position": {},
   "toc_section_display": true,
   "toc_window_display": false
  }
 },
 "nbformat": 4,
 "nbformat_minor": 4
}
