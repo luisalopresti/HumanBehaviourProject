{
 "cells": [
  {
   "cell_type": "markdown",
   "metadata": {},
   "source": [
    "## Mood map data preparation"
   ]
  },
  {
   "cell_type": "code",
   "execution_count": null,
   "metadata": {},
   "outputs": [],
   "source": [
    "import pandas as pd"
   ]
  },
  {
   "cell_type": "code",
   "execution_count": null,
   "metadata": {},
   "outputs": [],
   "source": [
    "df = pd.read_csv('location_4Ws_bluetooth.csv')"
   ]
  },
  {
   "cell_type": "code",
   "execution_count": null,
   "metadata": {},
   "outputs": [],
   "source": [
    "df = df.drop([\"Unnamed: 0\"], axis=1)\n",
    "df"
   ]
  },
  {
   "cell_type": "markdown",
   "metadata": {},
   "source": [
    "## Mood-map with activities"
   ]
  },
  {
   "cell_type": "markdown",
   "metadata": {},
   "source": [
    "For each place (meaning for each unique combination of latitude and longitude), build a new column, containing a list of all the activities done in that place (not a set yet, as I need to know how many times each activity was done).\n",
    "Then, another column, having the average mood for each place (ignoring NaN when doing the computation).\n",
    "Finally, a column having as value the frequency of that location."
   ]
  },
  {
   "cell_type": "code",
   "execution_count": null,
   "metadata": {},
   "outputs": [],
   "source": [
    "df = df[df['mood'].notna()] \n",
    "df = df[df['what'].notna()] # deleted 2669 rows\n",
    "unique_city = df.City.unique()\n",
    "unique_city.sort()\n",
    "#unique_city"
   ]
  },
  {
   "cell_type": "code",
   "execution_count": null,
   "metadata": {},
   "outputs": [],
   "source": [
    "df.what.unique()"
   ]
  },
  {
   "cell_type": "code",
   "execution_count": null,
   "metadata": {},
   "outputs": [],
   "source": [
    "wht = []\n",
    "for a in range(0,len(df)):\n",
    "    wht.append([])\n",
    "df[\"what_lst\"] = wht"
   ]
  },
  {
   "cell_type": "code",
   "execution_count": null,
   "metadata": {},
   "outputs": [],
   "source": [
    "df = df.sort_values(by=['City'], ascending=True) \n",
    "df = df.reset_index()\n",
    "df"
   ]
  },
  {
   "cell_type": "code",
   "execution_count": null,
   "metadata": {},
   "outputs": [],
   "source": [
    "df = df.drop([\"index\"], axis=1)"
   ]
  },
  {
   "cell_type": "code",
   "execution_count": null,
   "metadata": {},
   "outputs": [],
   "source": [
    "from statistics import mean\n",
    "\n",
    "# activities list\n",
    "index_city=0\n",
    "index_row=0\n",
    "what_list=[]\n",
    "c=0\n",
    "start=0\n",
    "# avg mood \n",
    "mood_lst_per_loc = []\n",
    "# place\n",
    "pl = []\n",
    "\n",
    "while True:\n",
    "    i=unique_city[index_city]\n",
    "    if df.iloc[index_row].at['City'] == i:\n",
    "        what_list.append(df.iloc[index_row].at['what']) # list of activities\n",
    "        mood_lst_per_loc.append(df.iloc[index_row].at['mood']) # avg mood\n",
    "        pl.append(df.iloc[index_row].at['place']) # place\n",
    "        index_row+=1\n",
    "        c+=1\n",
    "        if index_row == len(df.City):\n",
    "            # add last \n",
    "            avgM = mean(mood_lst_per_loc)\n",
    "            # build dictionary of places with their freq \n",
    "            d={}\n",
    "            for el in set(pl):\n",
    "                d[el]=pl.count(el)\n",
    "            for r in range(start,len(df.what_lst)):\n",
    "                df.at[r,'what_lst'] = what_list\n",
    "                df.at[r,'avg_mood'] = avgM\n",
    "                df.loc[r, 'places_dict'] = [d]\n",
    "            #if len(set(pl))>1:\n",
    "                #print(start,c)\n",
    "            break\n",
    "            \n",
    "    if df.iloc[index_row-1].at['City'] != df.iloc[index_row].at['City']:\n",
    "        avgM = mean(mood_lst_per_loc)\n",
    "        d={}\n",
    "        for el in set(pl):\n",
    "            d[el]=pl.count(el)\n",
    "        for r in range(start,c):\n",
    "            df.at[r,'what_lst'] = what_list\n",
    "            df.at[r,'avg_mood'] = avgM\n",
    "            df.loc[r, 'places_dict'] = [d]\n",
    "        #if len(set(pl))>1:\n",
    "                #print(start,c)\n",
    "        # reset       \n",
    "        what_list=[]\n",
    "        start=c\n",
    "        index_city+=1\n",
    "        pl=[]\n",
    "        "
   ]
  },
  {
   "cell_type": "code",
   "execution_count": null,
   "metadata": {},
   "outputs": [],
   "source": [
    "'''\n",
    "A few geographic places have as places_lst a list with more than one element\n",
    "\n",
    "This may be due to the fact that some timediaries were recorded some time after (and not in real time), \n",
    "thus the personal location given by the user is an approximation.\n",
    "The GPS caught a location, but the user inputted that at that specific time they were in some places.\n",
    "\n",
    "Most of all, this may also depend on the way data were processed: GPS location is collected every one minute, \n",
    "while time diaries are collected every half an hour.\n",
    "According to the rule used for merging the two information, each single place coming from timediaries is matched with 30\n",
    "data points coming from the GPS. (cfr. match_location_mood_bluetooth.ipynb for details)\n",
    "\n",
    "Thus change: instead of a list use a dictionary with value corresponding to the counting.\n",
    "'''\n",
    "# example:\n",
    "# print(df.iloc[1598].at['places_lst']) # ['Home apartment /room', 'In the street', 'Classroom / Study hall', 'Grocery Shop', 'Another outdoor place']\n",
    "print(df.iloc[1598].at['places_dict'])"
   ]
  },
  {
   "cell_type": "code",
   "execution_count": null,
   "metadata": {},
   "outputs": [],
   "source": [
    "# To verify/have an idea of what kind of place correspond to the GPS location for real, \n",
    "# let’s count how many time the place was inputted for each GPS location; \n",
    "# the most frequent should be the more likely to be correct.\n",
    "# That's why the column for places, actually correspond to a dictionary having as keys the places\n",
    "# and as values the number of time that place appeared for the specific GPS location considered."
   ]
  },
  {
   "cell_type": "code",
   "execution_count": null,
   "metadata": {},
   "outputs": [],
   "source": [
    "#df['City'].value_counts() \n",
    "df['frequency'] = df['City'].map(df['City'].value_counts(normalize=False)) # not normalized as numbers becomes very small if normalized wrt the whole datasets (order 10^-4) "
   ]
  },
  {
   "cell_type": "code",
   "execution_count": null,
   "metadata": {},
   "outputs": [],
   "source": [
    "df"
   ]
  },
  {
   "cell_type": "code",
   "execution_count": null,
   "metadata": {},
   "outputs": [],
   "source": [
    "df = df.drop([\"mood\", \"what\", \"place\", \"bluetooth\", \"with_who\", \"timestamp\"], axis=1) # for the mood map task we do not need these columns\n",
    "df"
   ]
  },
  {
   "cell_type": "code",
   "execution_count": null,
   "metadata": {},
   "outputs": [],
   "source": [
    "# remove rows having same city (the information of all rows have been stored in the other columns)\n",
    "df = df.drop_duplicates(subset=['City'])\n",
    "df"
   ]
  },
  {
   "cell_type": "code",
   "execution_count": null,
   "metadata": {},
   "outputs": [],
   "source": [
    "df.to_csv('mood_map.csv')"
   ]
  },
  {
   "cell_type": "markdown",
   "metadata": {},
   "source": [
    "## Bluetooth (with who?) map data preparation"
   ]
  },
  {
   "cell_type": "markdown",
   "metadata": {},
   "source": [
    "Re-load dataset. Keep the column \"bluetooth\" and \"with_who\", as they will be used to answer questions such as \"with who you are in that place?\", \"which activities you do with who?\", \"how the company influence your mood?\", and so on.\n",
    "Remove only rows where both \"bluetooth\" and \"with_who\" are NaN.\n",
    "Create a new column, where each cell contains a list of the hours that location was visited.\n",
    "Create a new column with a dictionary containing as keys the day of the week and as values the number of time that place is present in the dataframe for that day of the week.\n",
    "In this way, it will be possible to take into consideration of there are some places that are visited in specific hours or specific time of the day.\n",
    "\n",
    "Create a new column where, for each unique place, there will be a dictionary of the \"with_who\" (coming from timediaries) options present for that place, with as value the number of time that company was inputted in that place.\n",
    "\n",
    "Keep these new columns, as well as lat, long, city, what, mood, with_who and bluetooth."
   ]
  },
  {
   "cell_type": "code",
   "execution_count": null,
   "metadata": {},
   "outputs": [],
   "source": [
    "import pandas as pd\n",
    "df = pd.read_csv('location_4Ws_bluetooth.csv')\n",
    "df = df.drop([\"Unnamed: 0\"], axis=1)\n",
    "df"
   ]
  },
  {
   "cell_type": "code",
   "execution_count": null,
   "metadata": {},
   "outputs": [],
   "source": [
    "df = df.sort_values(by=['City'], ascending=True) "
   ]
  },
  {
   "cell_type": "code",
   "execution_count": null,
   "metadata": {},
   "outputs": [],
   "source": [
    "# drop row if both \"with_who\" and \"bluetooth\" values are NaN\n",
    "df = df.dropna(subset=[\"with_who\", \"bluetooth\"], how='all')\n",
    "df"
   ]
  },
  {
   "cell_type": "code",
   "execution_count": null,
   "metadata": {},
   "outputs": [],
   "source": [
    "df = df.reset_index()"
   ]
  },
  {
   "cell_type": "code",
   "execution_count": null,
   "metadata": {},
   "outputs": [],
   "source": [
    "df = df.drop([\"index\"], axis=1)\n",
    "df"
   ]
  },
  {
   "cell_type": "code",
   "execution_count": null,
   "metadata": {},
   "outputs": [],
   "source": [
    "unique_city = df.City.unique()\n",
    "\n",
    "index_city=0\n",
    "index_row=0\n",
    "c=0\n",
    "start=0\n",
    "# place\n",
    "pl = []\n",
    "# time of day \n",
    "t = []\n",
    "# who\n",
    "who = []\n",
    "\n",
    "\n",
    "while True:\n",
    "    i=unique_city[index_city]\n",
    "    if df.iloc[index_row].at['City'] == i:\n",
    "        t.append(str(df.iloc[index_row].at['timestamp'])[-4:]) # time of the day\n",
    "        if pd.isna(df.iloc[index_row].at['place'])==False:\n",
    "            pl.append(df.iloc[index_row].at['place']) # place\n",
    "        if pd.isna(df.iloc[index_row].at['with_who'])==False:\n",
    "            who.append(df.iloc[index_row].at['with_who'])\n",
    "        index_row+=1\n",
    "        c+=1\n",
    "        if index_row == len(df.City):\n",
    "            # place\n",
    "            d={}\n",
    "            for el in set(pl):\n",
    "                d[el]=pl.count(el)\n",
    "            # with who\n",
    "            dw={}\n",
    "            for elw in set(who):\n",
    "                dw[elw]=who.count(elw)\n",
    "            for r in range(start,len(df.City)):\n",
    "                df.loc[r, 'places_dict'] = [d]\n",
    "                df.at[r, 'time_of_day'] = t  \n",
    "                df.loc[r, 'who_lst'] = [dw] \n",
    "            break\n",
    "            \n",
    "    if df.iloc[index_row-1].at['City'] != df.iloc[index_row].at['City']:\n",
    "        # place\n",
    "        d={}\n",
    "        for el in set(pl):\n",
    "            d[el]=pl.count(el)\n",
    "        # with who\n",
    "            dw={}\n",
    "            for elw in set(who):\n",
    "                dw[elw]=who.count(elw)\n",
    "        for r in range(start,c):\n",
    "            df.loc[r, 'places_dict'] = [d]\n",
    "            df.at[r, 'time_of_day'] = t\n",
    "            df.loc[r, 'who_lst'] = [dw] \n",
    "        \n",
    "        # reset       \n",
    "        pl=[]\n",
    "        start=c\n",
    "        index_city+=1\n",
    "        t=[]\n",
    "        who=[]"
   ]
  },
  {
   "cell_type": "code",
   "execution_count": null,
   "metadata": {},
   "outputs": [],
   "source": [
    "# test:\n",
    "# from datetime import date\n",
    "# import calendar\n",
    "import pandas as pd\n",
    "\n",
    "temp = pd.Timestamp('2020-11-25')\n",
    "print(temp.day_name())"
   ]
  },
  {
   "cell_type": "code",
   "execution_count": null,
   "metadata": {},
   "outputs": [],
   "source": [
    "# day of the week\n",
    "\n",
    "day = []\n",
    "\n",
    "unique_city = df.City.unique()\n",
    "\n",
    "index_city=0\n",
    "index_row=0\n",
    "c=0\n",
    "start=0\n",
    "\n",
    "while True:\n",
    "    i=unique_city[index_city]\n",
    "    if df.iloc[index_row].at['City'] == i:\n",
    "        str_day = str(df.iloc[index_row].at['timestamp'])[:-4]\n",
    "        temp = pd.Timestamp(str_day[:4]+'-'+str_day[4:6]+'-'+str_day[6:])\n",
    "        day.append(temp.day_name()) # day of the week\n",
    "        \n",
    "        \n",
    "        index_row+=1\n",
    "        c+=1\n",
    "        if index_row == len(df.City):\n",
    "            d={}\n",
    "            for el in set(day):\n",
    "                d[el]=day.count(el)\n",
    "            for r in range(start,len(df.City)):\n",
    "                df.loc[r, 'day'] = [d]              \n",
    "            break\n",
    "            \n",
    "    if df.iloc[index_row-1].at['City'] != df.iloc[index_row].at['City']:\n",
    "        d={}\n",
    "        for el in set(day):\n",
    "            d[el]=day.count(el)\n",
    "        for r in range(start,c):\n",
    "            df.loc[r, 'day'] = [d]\n",
    "        \n",
    "        # reset       \n",
    "        day=[]\n",
    "        start=c\n",
    "        index_city+=1\n",
    "        "
   ]
  },
  {
   "cell_type": "code",
   "execution_count": null,
   "metadata": {},
   "outputs": [],
   "source": [
    "df = df.drop([\"place\"], axis=1)"
   ]
  },
  {
   "cell_type": "code",
   "execution_count": null,
   "metadata": {},
   "outputs": [],
   "source": [
    "df"
   ]
  },
  {
   "cell_type": "code",
   "execution_count": null,
   "metadata": {},
   "outputs": [],
   "source": [
    "df = df.drop_duplicates(subset=['lat', 'long', 'City', 'mood', 'bluetooth', 'with_who', 'what'])\n",
    "df = df.drop([\"timestamp\"], axis=1) \n",
    "df = df.reset_index()"
   ]
  },
  {
   "cell_type": "code",
   "execution_count": null,
   "metadata": {},
   "outputs": [],
   "source": [
    "df = df.drop([\"index\"], axis=1)"
   ]
  },
  {
   "cell_type": "code",
   "execution_count": null,
   "metadata": {},
   "outputs": [],
   "source": [
    "df"
   ]
  },
  {
   "cell_type": "code",
   "execution_count": null,
   "metadata": {},
   "outputs": [],
   "source": [
    "# save\n",
    "df.to_csv('with_who_map.csv')"
   ]
  }
 ],
 "metadata": {
  "kernelspec": {
   "display_name": "Python 3 (ipykernel)",
   "language": "python",
   "name": "python3"
  },
  "language_info": {
   "codemirror_mode": {
    "name": "ipython",
    "version": 3
   },
   "file_extension": ".py",
   "mimetype": "text/x-python",
   "name": "python",
   "nbconvert_exporter": "python",
   "pygments_lexer": "ipython3",
   "version": "3.8.5"
  },
  "toc": {
   "base_numbering": 1,
   "nav_menu": {},
   "number_sections": true,
   "sideBar": true,
   "skip_h1_title": false,
   "title_cell": "Table of Contents",
   "title_sidebar": "Contents",
   "toc_cell": false,
   "toc_position": {},
   "toc_section_display": true,
   "toc_window_display": false
  }
 },
 "nbformat": 4,
 "nbformat_minor": 4
}
