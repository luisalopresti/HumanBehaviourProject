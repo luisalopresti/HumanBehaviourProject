{
 "cells": [
  {
   "cell_type": "markdown",
   "metadata": {},
   "source": [
    "## Bayesian Network"
   ]
  },
  {
   "cell_type": "code",
   "execution_count": null,
   "metadata": {},
   "outputs": [],
   "source": [
    "import pandas as pd \n",
    "import networkx as nx \n",
    "import matplotlib.pyplot as plt "
   ]
  },
  {
   "cell_type": "code",
   "execution_count": null,
   "metadata": {},
   "outputs": [],
   "source": [
    "df = pd.read_csv('BBN_data.csv')\n",
    "df = df.drop([\"Unnamed: 0\"], axis=1)\n",
    "df"
   ]
  },
  {
   "cell_type": "markdown",
   "metadata": {},
   "source": [
    "## Structural Learning"
   ]
  },
  {
   "cell_type": "markdown",
   "metadata": {},
   "source": [
    "### Search strategy"
   ]
  },
  {
   "cell_type": "markdown",
   "metadata": {},
   "source": [
    "The search space of DAG is exponential in the number of variables, thus exhaustive search is unaffordable for big networks; moreover, the scoring function allows for local maxima, which prevents local optimization algorithms to always find the optimal structure. \n",
    "\n",
    "Thus, the following approach, which takes advantage of Exhaustive Search, is only reccomended for small networks (less than 5 nodes), as the one considered here; once more nodes are involved, one may want to implement a Hill Climb Search.\n",
    "\n",
    "The scoring function chosen is BDeu (Bayesian Dirichlet equivalent uniform prior), which is a popular and reasonable choice."
   ]
  },
  {
   "cell_type": "code",
   "execution_count": null,
   "metadata": {},
   "outputs": [],
   "source": [
    "from pgmpy.estimators import MmhcEstimator\n",
    "from pgmpy.estimators import HillClimbSearch, ExhaustiveSearch, BDeuScore\n",
    "\n",
    "est = ExhaustiveSearch(df, scoring_method=BDeuScore(df))\n",
    "model = est.estimate()\n",
    "print(\"Model:    \", model.edges())"
   ]
  },
  {
   "cell_type": "markdown",
   "metadata": {},
   "source": [
    "## Parameter Learning"
   ]
  },
  {
   "cell_type": "code",
   "execution_count": null,
   "metadata": {},
   "outputs": [],
   "source": [
    "# conda install -c ankurankan pgmpy\n",
    "from pgmpy.models import BayesianModel, BayesianNetwork\n",
    "from pgmpy.estimators import ParameterEstimator"
   ]
  },
  {
   "cell_type": "code",
   "execution_count": null,
   "metadata": {},
   "outputs": [],
   "source": [
    "model = BayesianNetwork([('Num_of_people', 'time'), ('mood', 'Num_of_people'), ('mood', 'place'), ('mood', 'time'), \n",
    "                         ('place', 'Num_of_people'), ('place', 'time'), ('what', 'Num_of_people'), ('what', 'mood'), \n",
    "                         ('what', 'place'), ('what', 'time')])"
   ]
  },
  {
   "cell_type": "code",
   "execution_count": null,
   "metadata": {},
   "outputs": [],
   "source": [
    "# PROBABILITIES\n",
    "# using MLE\n",
    "from pgmpy.estimators import MaximumLikelihoodEstimator\n",
    "mle = MaximumLikelihoodEstimator(model, df)\n",
    "print(mle.estimate_cpd('mood'))  # conditional probabilities\n",
    "print(mle.estimate_cpd('what'))  # unconditional probabilities"
   ]
  },
  {
   "cell_type": "markdown",
   "metadata": {},
   "source": [
    "As it is possible to see, the maximum likelihood approach is not the best as it would put to zero, i.e. impossible configuration, the probabilities of configurations which were never observed in the data. \n",
    "\n",
    "Given that it is quite likely that some configurations were never observed in the two weeks of data collections, while also being totally possible outcomes, it is more useful to use Bayesian Parameters Estimation, to assign priors probabilities and prevent overfitting the data. "
   ]
  },
  {
   "cell_type": "markdown",
   "metadata": {},
   "source": [
    "The Bayesian Parameter Estimator starts with prior conditional probability distribution (CPD), that express our beliefs about the variables before the data are observed. Those priors are then updated, using the observed data.\n",
    "A common choice for the priors is the BDeu (Bayesian Dirichlet equivalent uniform prior)."
   ]
  },
  {
   "cell_type": "code",
   "execution_count": null,
   "metadata": {},
   "outputs": [],
   "source": [
    "from pgmpy.estimators import BayesianEstimator\n",
    "\n",
    "# est = BayesianEstimator(model, df)\n",
    "# print(est.estimate_cpd('what', prior_type='BDeu', equivalent_sample_size=10))\n",
    "\n",
    "model.fit(df, estimator=BayesianEstimator, prior_type=\"BDeu\", equivalent_sample_size=10)\n",
    "for cpd in model.get_cpds():\n",
    "    print(cpd)"
   ]
  },
  {
   "cell_type": "code",
   "execution_count": null,
   "metadata": {},
   "outputs": [],
   "source": [
    "# check for errors:\n",
    "# - Checks if the sum of the probabilities for each state is equal to 1 (tol=0.01).\n",
    "# - Checks if the CPDs associated with nodes are consistent with their parents.\n",
    "# returns True if all checks are passed; False if not\n",
    "model.check_model()"
   ]
  },
  {
   "cell_type": "code",
   "execution_count": null,
   "metadata": {},
   "outputs": [],
   "source": [
    "# local independences\n",
    "# print(model.local_independencies('Num_of_people'))\n",
    "# print(model.local_independencies('time'))\n",
    "# print(model.local_independencies('mood'))\n",
    "# print(model.local_independencies('what'))\n",
    "# print(model.local_independencies('place'))\n",
    "\n",
    "# Getting all the local independencies in the network at once\n",
    "print(\"All local independencies in the network:\")\n",
    "model.local_independencies(['what', 'mood', 'Num_of_people', 'place', 'time'])"
   ]
  },
  {
   "cell_type": "markdown",
   "metadata": {},
   "source": [
    "In a Bayesian Network, generally we would like to encode as much local independencies as possible, because this simplify a lot computations and it is one of the main advatage of BN. \n",
    "\n",
    "However, in the considered case, having a small and easy network, and having as previous knowledge the fact that all factors involved have some level of influence on the others, we can accept a fully connected network as a good choice, as it would allow us to see the effects of all factors on the others, which is the primary goal here."
   ]
  },
  {
   "cell_type": "code",
   "execution_count": null,
   "metadata": {},
   "outputs": [],
   "source": [
    "# Active trail:\n",
    "# For any two variables A and B in a network if any change in A influences the values of B \n",
    "# then we say that there is an active trail between A and B.\n",
    "# In pgmpy, active_trail_nodes returns the set of the nodes affected by any change of the node passed as argument.\n",
    "print(\"Active trail for activity:\")\n",
    "print(model.active_trail_nodes('what'))\n",
    "print(\"Active trail for activity when mood is observed:\")\n",
    "print(model.active_trail_nodes('what', observed='mood')) # seems like mood influence the activity done"
   ]
  },
  {
   "cell_type": "code",
   "execution_count": null,
   "metadata": {},
   "outputs": [],
   "source": [
    "# represent network\n",
    "nx.draw(model, with_labels = True, node_size=1000, font_size=10)\n",
    "plt.figure(1,figsize=(12,12)) \n",
    "plt.show()"
   ]
  },
  {
   "cell_type": "code",
   "execution_count": null,
   "metadata": {},
   "outputs": [],
   "source": [
    "from pgmpy.inference import VariableElimination\n",
    "\n",
    "infer = VariableElimination(model)\n",
    "print('Variable Elimination:')\n",
    "print(infer.query(['what']))\n",
    "print(infer.query(['what'], evidence={'mood': 3.0, 'Num_of_people': '1 - 3'}))"
   ]
  },
  {
   "cell_type": "code",
   "execution_count": null,
   "metadata": {},
   "outputs": [],
   "source": [
    "print(infer.map_query(['what'])) \n",
    "# return the activity with the highest probability among all of them  \n",
    "# when there is no evidence on others variables,\n",
    "# thus, simply the one with highest probability on the \"what\" table"
   ]
  },
  {
   "cell_type": "code",
   "execution_count": null,
   "metadata": {},
   "outputs": [],
   "source": [
    "# returns the activity having the highest probability to happen, given than the mood and the number of people are observed\n",
    "# here is a neutral mood and more than 4 people around (high number of people)\n",
    "print(infer.map_query(['what'], evidence={'mood': 2.0, 'Num_of_people': '>= 4'}))"
   ]
  },
  {
   "cell_type": "code",
   "execution_count": null,
   "metadata": {},
   "outputs": [],
   "source": [
    "# same as before but changing the mood in a positive one, keeping same number of people around\n",
    "print(infer.map_query(['what'], evidence={'mood': 4.0, 'Num_of_people': '>= 4'}))"
   ]
  },
  {
   "cell_type": "code",
   "execution_count": null,
   "metadata": {},
   "outputs": [],
   "source": [
    "print(infer.map_query(['what'], evidence={'mood': 3.0, 'Num_of_people': '>= 4', 'time': 'Afternoon', \n",
    "                                          'place': 'Outdoor'}))"
   ]
  },
  {
   "cell_type": "code",
   "execution_count": null,
   "metadata": {},
   "outputs": [],
   "source": [
    "print(infer.query(['what'], evidence={'Num_of_people': '>= 4', 'time': 'Afternoon'}))"
   ]
  },
  {
   "cell_type": "code",
   "execution_count": null,
   "metadata": {},
   "outputs": [],
   "source": [
    "print(infer.query(['what'], evidence={'Num_of_people': '1 - 3', 'time': 'Morning'}))"
   ]
  },
  {
   "cell_type": "markdown",
   "metadata": {},
   "source": [
    "## Checking activity predictions precision on a test set given evidence on all other variables"
   ]
  },
  {
   "cell_type": "code",
   "execution_count": null,
   "metadata": {},
   "outputs": [],
   "source": [
    "import pandas as pd \n",
    "\n",
    "from pgmpy.estimators import MmhcEstimator\n",
    "from pgmpy.estimators import HillClimbSearch, ExhaustiveSearch, BDeuScore\n",
    "\n",
    "from pgmpy.models import BayesianModel, BayesianNetwork\n",
    "from pgmpy.estimators import ParameterEstimator\n",
    "\n",
    "from pgmpy.estimators import BayesianEstimator\n",
    "\n",
    "from pgmpy.inference import VariableElimination\n",
    "\n",
    "import networkx as nx\n",
    "import matplotlib.pyplot as plt "
   ]
  },
  {
   "cell_type": "code",
   "execution_count": null,
   "metadata": {},
   "outputs": [],
   "source": [
    "df = pd.read_csv('BBN_data.csv')\n",
    "df = df.sample(frac=1, random_state=1) # shuffle\n",
    "\n",
    "# split into test and train set\n",
    "train = df[:len(df)//2]\n",
    "test = df[len(df)//2:]\n",
    "train = train.drop([\"Unnamed: 0\"], axis=1)\n",
    "test = test.drop([\"Unnamed: 0\"], axis=1)\n",
    "train = pd.DataFrame(train)\n"
   ]
  },
  {
   "cell_type": "markdown",
   "metadata": {},
   "source": [
    "Find optimal structure on training set."
   ]
  },
  {
   "cell_type": "code",
   "execution_count": null,
   "metadata": {},
   "outputs": [],
   "source": [
    "est = ExhaustiveSearch(train, scoring_method=BDeuScore(train))\n",
    "model = est.estimate()\n",
    "print(\"Model:    \", model.edges())"
   ]
  },
  {
   "cell_type": "code",
   "execution_count": null,
   "metadata": {},
   "outputs": [],
   "source": [
    "model = BayesianNetwork([('Num_of_people', 'mood'), ('Num_of_people', 'place'), ('place', 'mood'), \n",
    "                         ('time', 'Num_of_people'), ('time', 'mood'), ('time', 'place'), ('what', 'Num_of_people'), \n",
    "                         ('what', 'mood'), ('what', 'place'), ('what', 'time')])"
   ]
  },
  {
   "cell_type": "markdown",
   "metadata": {},
   "source": [
    "Fit the model on training set."
   ]
  },
  {
   "cell_type": "code",
   "execution_count": null,
   "metadata": {},
   "outputs": [],
   "source": [
    "model.fit(train, estimator=BayesianEstimator, prior_type=\"BDeu\", equivalent_sample_size=10)"
   ]
  },
  {
   "cell_type": "code",
   "execution_count": null,
   "metadata": {},
   "outputs": [],
   "source": [
    "model.check_model() # if True, no error\n",
    "\n",
    "print(\"All local independencies in the network:\\n\")\n",
    "model.local_independencies(['what', 'mood', 'Num_of_people', 'place', 'time'])\n",
    "\n",
    "print(\"Active trail for activity:\")\n",
    "print(model.active_trail_nodes('what'))\n",
    "print(model.active_trail_nodes('Num_of_people'))\n",
    "print(model.active_trail_nodes('time'))\n",
    "print(model.active_trail_nodes('place'))\n",
    "print(model.active_trail_nodes('mood'))"
   ]
  },
  {
   "cell_type": "code",
   "execution_count": null,
   "metadata": {},
   "outputs": [],
   "source": [
    "nx.draw(model, with_labels = True, node_size=1000, font_size=10)\n",
    "plt.figure(1,figsize=(12,12)) \n",
    "plt.show()"
   ]
  },
  {
   "cell_type": "markdown",
   "metadata": {},
   "source": [
    "Check accuracy of prediction when all evidence is given, on test set."
   ]
  },
  {
   "cell_type": "code",
   "execution_count": null,
   "metadata": {},
   "outputs": [],
   "source": [
    "infer = VariableElimination(model)"
   ]
  },
  {
   "cell_type": "code",
   "execution_count": null,
   "metadata": {},
   "outputs": [],
   "source": [
    "test = test.reset_index()\n",
    "test = test.drop([\"index\"], axis=1)\n",
    "test.mood.astype('float32').dtypes"
   ]
  },
  {
   "cell_type": "code",
   "execution_count": null,
   "metadata": {},
   "outputs": [],
   "source": [
    "correct = 0\n",
    "wrong = 0\n",
    "\n",
    "for row in range(len(test)):\n",
    "    x = {}\n",
    "    x['mood'] = test.mood[row]\n",
    "    x['place'] = test.place[row]\n",
    "    x['Num_of_people'] = test.Num_of_people[row]\n",
    "    x['time'] = test.time[row]\n",
    "    y = test.what[row]\n",
    "    print(x)\n",
    "    l = infer.map_query(['what'], evidence = dict(x))\n",
    "    print(l['what'], '= ?', y)\n",
    "    if l['what'] == y:\n",
    "        correct +=1\n",
    "    else:\n",
    "        wrong += 1"
   ]
  },
  {
   "cell_type": "code",
   "execution_count": null,
   "metadata": {},
   "outputs": [],
   "source": [
    "print(wrong, correct)"
   ]
  },
  {
   "cell_type": "code",
   "execution_count": null,
   "metadata": {},
   "outputs": [],
   "source": [
    "accuracy = correct / (wrong+correct) * 100\n",
    "print(str(round(accuracy, 1)), '%')"
   ]
  }
 ],
 "metadata": {
  "kernelspec": {
   "display_name": "Python 3 (ipykernel)",
   "language": "python",
   "name": "python3"
  },
  "language_info": {
   "codemirror_mode": {
    "name": "ipython",
    "version": 3
   },
   "file_extension": ".py",
   "mimetype": "text/x-python",
   "name": "python",
   "nbconvert_exporter": "python",
   "pygments_lexer": "ipython3",
   "version": "3.8.5"
  },
  "toc": {
   "base_numbering": 1,
   "nav_menu": {},
   "number_sections": true,
   "sideBar": true,
   "skip_h1_title": false,
   "title_cell": "Table of Contents",
   "title_sidebar": "Contents",
   "toc_cell": false,
   "toc_position": {},
   "toc_section_display": true,
   "toc_window_display": false
  }
 },
 "nbformat": 4,
 "nbformat_minor": 4
}
