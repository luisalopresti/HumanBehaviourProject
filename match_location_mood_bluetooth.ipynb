{
 "cells": [
  {
   "cell_type": "markdown",
   "metadata": {},
   "source": [
    "## Matching location to mood for the Mood-Map"
   ]
  },
  {
   "cell_type": "code",
   "execution_count": null,
   "metadata": {},
   "outputs": [],
   "source": [
    "import pandas as pd"
   ]
  },
  {
   "cell_type": "code",
   "execution_count": null,
   "metadata": {},
   "outputs": [],
   "source": [
    "location = pd.read_csv('processed_location_city.csv')\n",
    "diaries = pd.read_csv('timediaries.csv')"
   ]
  },
  {
   "cell_type": "code",
   "execution_count": null,
   "metadata": {},
   "outputs": [],
   "source": [
    "location = location.drop([\"Unnamed: 0\", \"Unnamed: 0.1\"], axis=1)\n",
    "location"
   ]
  },
  {
   "cell_type": "code",
   "execution_count": null,
   "metadata": {},
   "outputs": [],
   "source": [
    "diaries = diaries.drop([\"Unnamed: 0\", \"sleep_quality\", \"pred_day\", \"daily_mood\", \"problem\", \"solution\", \"yn_food\", \"food\"], axis=1)\n",
    "diaries"
   ]
  },
  {
   "cell_type": "markdown",
   "metadata": {},
   "source": [
    "Time diaries data are collected every 30 minutes, while the location is collected every minute.\n",
    "Thus, to associate to a specific location a mood, which is needed for the creation of the mood-map, each location associated to a timestamp with minutes (the last two digits) between 00 (included) and 29 (excluded), will be matched to the mood collected at minute 30, of the same hour.\n",
    "Instead, locations having timestamps ending with a number between 30 (included) and 59 (excluded), will be associated with the mood collected at minute 00 of the successive hour."
   ]
  },
  {
   "cell_type": "markdown",
   "metadata": {},
   "source": [
    "Following the same reasoning, add also the attribute \"with who\", \"where\", and \"what\"."
   ]
  },
  {
   "cell_type": "code",
   "execution_count": null,
   "metadata": {},
   "outputs": [],
   "source": [
    "diaries.timestamp = diaries.timestamp.astype(str)\n",
    "location.timestamp = location.timestamp.astype(str)"
   ]
  },
  {
   "cell_type": "code",
   "execution_count": null,
   "metadata": {},
   "outputs": [],
   "source": [
    "# if mood==NaN, remove row\n",
    "diaries.dropna(subset = [\"num_mood\"], inplace=True)"
   ]
  },
  {
   "cell_type": "code",
   "execution_count": null,
   "metadata": {},
   "outputs": [],
   "source": [
    "diaries = diaries.reset_index()\n",
    "\n",
    "# sort by timestamp\n",
    "diaries = diaries.sort_values(by=['timestamp'])\n",
    "location = location.sort_values(by=['timestamp'])"
   ]
  },
  {
   "cell_type": "code",
   "execution_count": null,
   "metadata": {},
   "outputs": [],
   "source": [
    "mood = []\n",
    "who = []\n",
    "where_lst = []\n",
    "what_lst = []\n",
    "\n",
    "for row in range(len(location)):\n",
    "    \n",
    "    tl = location.timestamp[row]\n",
    "    if int(tl[-2:]) >= 30 and int(tl[-2:]) <= 59:\n",
    "        for d in range(len(diaries)):\n",
    "            td = diaries.timestamp[d]\n",
    "            ending_d = str(int(tl[-4:-2])+1) + '00' # next hour + minutes:00\n",
    "            \n",
    "            if len(ending_d) < 4: # dealing with midnight\n",
    "                ending_d = '0' + ending_d\n",
    "                \n",
    "            if td.endswith(ending_d) and td.startswith(tl[:8]): # time range + same day\n",
    "                mood.append(diaries.num_mood[d])\n",
    "                who.append(diaries.with_who[d])\n",
    "                where_lst.append(diaries['where'][d])\n",
    "                what_lst.append(diaries.what[d])\n",
    "                break\n",
    "    \n",
    "    elif int(tl[-2:]) < 30 and int(tl[-2:]) >= 0:\n",
    "        for d in range(len(diaries)):\n",
    "            td = diaries.timestamp[d]\n",
    "            ending_d = str(int(tl[-4:-2])) + '30' # same hour + minutes:30\n",
    "            \n",
    "            if len(ending_d) < 4: \n",
    "                ending_d = '0' + ending_d\n",
    "                # dealing with midnight --> it would be '030', thus is would associate with any hours ending \n",
    "                # with 30mins eg 20.30 instead of 00.30\n",
    "                # thus add '0' in front of it\n",
    "                \n",
    "            if td.endswith(ending_d) and td.startswith(tl[:8]): # time range + same day\n",
    "                mood.append(diaries.num_mood[d])\n",
    "                who.append(diaries.with_who[d])\n",
    "                where_lst.append(diaries['where'][d])\n",
    "                what_lst.append(diaries.what[d])\n",
    "                break\n",
    "    \n",
    "    # there is no mood associated to that time --> one expired timediary (mood==NaN), means lack of 30 matching    \n",
    "    if len(mood) != row+1:\n",
    "        mood.append('NaN') #print(row, len(mood))\n",
    "    if len(who) != row+1:\n",
    "        who.append('NaN')\n",
    "    if len(what_lst) != row+1:\n",
    "        what_lst.append('NaN')\n",
    "    if len(where_lst) != row+1:\n",
    "        where_lst.append('NaN')\n",
    "    \n",
    "                    \n",
    "location['mood'] = mood\n",
    "location['with_who'] = who\n",
    "location['what'] = what_lst\n",
    "location['place'] = where_lst"
   ]
  },
  {
   "cell_type": "code",
   "execution_count": null,
   "metadata": {},
   "outputs": [],
   "source": [
    "location"
   ]
  },
  {
   "cell_type": "markdown",
   "metadata": {},
   "source": [
    "## Integrating Bluetooth data"
   ]
  },
  {
   "cell_type": "code",
   "execution_count": null,
   "metadata": {},
   "outputs": [],
   "source": [
    "b = pd.read_csv('processed_bluetooth.csv')\n",
    "b = b.drop([\"Unnamed: 0\"], axis=1)\n",
    "b = b.sort_values(by=['timestamp'])\n",
    "b"
   ]
  },
  {
   "cell_type": "markdown",
   "metadata": {},
   "source": [
    "Bluetooth data are collected every minute, but records are present in this dataframe only when at least one device has been found nearby.\n",
    "\n",
    "Bluetooth are added to the location dataframe when the timestamp match perfectly."
   ]
  },
  {
   "cell_type": "code",
   "execution_count": null,
   "metadata": {},
   "outputs": [],
   "source": [
    "b.timestamp = b.timestamp.astype(str)"
   ]
  },
  {
   "cell_type": "code",
   "execution_count": null,
   "metadata": {},
   "outputs": [],
   "source": [
    "bluetooth = []\n",
    "for row in range(len(location)):\n",
    "    tl = location.timestamp[row]\n",
    "    for row2 in range(len(b)):\n",
    "        tb = b.timestamp[row2]\n",
    "        if tl == tb:\n",
    "            bluetooth.append(b.devices[row2])\n",
    "    if len(bluetooth) != row+1:\n",
    "        bluetooth.append('NaN')"
   ]
  },
  {
   "cell_type": "code",
   "execution_count": null,
   "metadata": {},
   "outputs": [],
   "source": [
    "location['bluetooth'] = bluetooth"
   ]
  },
  {
   "cell_type": "code",
   "execution_count": null,
   "metadata": {},
   "outputs": [],
   "source": [
    "location"
   ]
  },
  {
   "cell_type": "markdown",
   "metadata": {},
   "source": [
    "## Save new dataset"
   ]
  },
  {
   "cell_type": "code",
   "execution_count": null,
   "metadata": {},
   "outputs": [],
   "source": [
    "# save\n",
    "# location.to_csv('location_4Ws_bluetooth.csv')"
   ]
  },
  {
   "cell_type": "code",
   "execution_count": null,
   "metadata": {},
   "outputs": [],
   "source": [
    "# run same script commenting the line where diaries.dropna() to save this file\n",
    "# location.to_csv('full_match.csv')\n",
    "\n",
    "\n",
    "# this file will contain a lot of missing value, thus it is not suited for the BBN or for the mood map,\n",
    "# but it is good for showing the full picture without missing locations.\n",
    "# It has been thought of sustituting the missing value for the mood with the mood reported at the end of the day,\n",
    "# when the user evaluate their day; however, that mood is most likely either influenced by the latest event in the day,\n",
    "# or costant within the whole day. Thus, it would, in the first case, cause a distortion, and in the last case, it would \n",
    "# not make any difference."
   ]
  }
 ],
 "metadata": {
  "kernelspec": {
   "display_name": "Python 3 (ipykernel)",
   "language": "python",
   "name": "python3"
  },
  "language_info": {
   "codemirror_mode": {
    "name": "ipython",
    "version": 3
   },
   "file_extension": ".py",
   "mimetype": "text/x-python",
   "name": "python",
   "nbconvert_exporter": "python",
   "pygments_lexer": "ipython3",
   "version": "3.8.5"
  },
  "toc": {
   "base_numbering": 1,
   "nav_menu": {},
   "number_sections": true,
   "sideBar": true,
   "skip_h1_title": false,
   "title_cell": "Table of Contents",
   "title_sidebar": "Contents",
   "toc_cell": false,
   "toc_position": {},
   "toc_section_display": true,
   "toc_window_display": false
  }
 },
 "nbformat": 4,
 "nbformat_minor": 4
}
