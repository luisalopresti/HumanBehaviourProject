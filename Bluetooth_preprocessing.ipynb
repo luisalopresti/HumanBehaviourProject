{
 "cells": [
  {
   "cell_type": "markdown",
   "metadata": {},
   "source": [
    "## Load bluetooth and location datasets"
   ]
  },
  {
   "cell_type": "code",
   "execution_count": null,
   "metadata": {},
   "outputs": [],
   "source": [
    "import pandas as pd"
   ]
  },
  {
   "cell_type": "code",
   "execution_count": null,
   "metadata": {},
   "outputs": [],
   "source": [
    "location = pd.read_csv('SHB_data_luisa/locationeventpertime.csv')"
   ]
  },
  {
   "cell_type": "code",
   "execution_count": null,
   "metadata": {},
   "outputs": [],
   "source": [
    "columns_name = ['experimentid', 'userid', 'day', 'timestamp', 'address', 'bondstate', 'none', 'none2', 'name', 'rssi']\n",
    "bluetooth = pd.read_csv('SHB_data_luisa/bluetoothnormalevent.csv', \n",
    "                        names=columns_name, skiprows=1, header=None)"
   ]
  },
  {
   "cell_type": "code",
   "execution_count": null,
   "metadata": {},
   "outputs": [],
   "source": [
    "location.head()"
   ]
  },
  {
   "cell_type": "code",
   "execution_count": null,
   "metadata": {},
   "outputs": [],
   "source": [
    "bluetooth.head()"
   ]
  },
  {
   "cell_type": "code",
   "execution_count": null,
   "metadata": {},
   "outputs": [],
   "source": [
    "location = location.drop([\"experimentid\", \"userid\", \"lucene\"], axis=1)\n",
    "bluetooth = bluetooth.drop([\"experimentid\", \"userid\", \"none\", \"none2\"], axis=1)"
   ]
  },
  {
   "cell_type": "code",
   "execution_count": null,
   "metadata": {},
   "outputs": [],
   "source": [
    "print(len(location), len(bluetooth))"
   ]
  },
  {
   "cell_type": "markdown",
   "metadata": {},
   "source": [
    "## Bluetooth pre-processing"
   ]
  },
  {
   "cell_type": "code",
   "execution_count": null,
   "metadata": {},
   "outputs": [],
   "source": [
    "# remove records without any device name\n",
    "bluetooth = bluetooth[bluetooth['name'].notna()]\n",
    "print(len(bluetooth))"
   ]
  },
  {
   "cell_type": "code",
   "execution_count": null,
   "metadata": {},
   "outputs": [],
   "source": [
    "# if same timestamp, put list of devices in in a new column (for each pt in time) -> not different rows with same timestamp\n",
    "# bluetooth['devices_list'] = pd.Series([])\n",
    "i_time = bluetooth.timestamp.unique()\n",
    "i_time.sort()"
   ]
  },
  {
   "cell_type": "code",
   "execution_count": null,
   "metadata": {},
   "outputs": [],
   "source": [
    "len(i_time) # unique values of timestamp --> same as num rows thus no duplicates "
   ]
  },
  {
   "cell_type": "code",
   "execution_count": null,
   "metadata": {},
   "outputs": [],
   "source": [
    "bluetooth = bluetooth.sort_values(by=['timestamp'], ascending=True) "
   ]
  },
  {
   "cell_type": "markdown",
   "metadata": {},
   "source": [
    "Delete seconds and decimals from timestamp, merge devices nearby by timestamp, so that to each reduced timestamp correspond a list of devices nearby at that time."
   ]
  },
  {
   "cell_type": "code",
   "execution_count": null,
   "metadata": {},
   "outputs": [],
   "source": [
    "bluetooth['timestamp'].isnull().values.any()"
   ]
  },
  {
   "cell_type": "code",
   "execution_count": null,
   "metadata": {},
   "outputs": [],
   "source": [
    "# reduce timestamp\n",
    "bluetooth.timestamp = bluetooth.timestamp.astype(str)\n",
    "bluetooth.timestamp = bluetooth.timestamp.apply(lambda x: x[0:12])\n",
    "bluetooth"
   ]
  },
  {
   "cell_type": "code",
   "execution_count": null,
   "metadata": {},
   "outputs": [],
   "source": [
    "# bluetooth = bluetooth.drop([\"address\"], axis=1)\n",
    "# bluetooth.sort_values(by=['timestamp'])\n",
    "# print(len(bluetooth.timestamp.unique()))"
   ]
  },
  {
   "cell_type": "markdown",
   "metadata": {},
   "source": [
    "### Considering rssi to compute distances between devices"
   ]
  },
  {
   "cell_type": "code",
   "execution_count": null,
   "metadata": {},
   "outputs": [],
   "source": [
    "bluetooth = bluetooth.drop([\"address\", \"bondstate\"], axis=1)\n",
    "bluetooth.sort_values(by=['timestamp'])\n",
    "print(len(bluetooth.timestamp.unique()))\n",
    "bluetooth.sort_values(by=['rssi'], ascending=False)"
   ]
  },
  {
   "cell_type": "code",
   "execution_count": null,
   "metadata": {},
   "outputs": [],
   "source": [
    "bluetooth = bluetooth.reset_index()\n",
    "bluetooth = bluetooth.drop([\"index\"], axis=1)"
   ]
  },
  {
   "cell_type": "code",
   "execution_count": null,
   "metadata": {},
   "outputs": [],
   "source": [
    "dist = []\n",
    "for row in range(len(bluetooth)):\n",
    "    distance = 10 ** ((-69 -(bluetooth.rssi[row]))/(10 * 2))\n",
    "    dist.append(distance)\n",
    "bluetooth['Distance_meters'] = dist"
   ]
  },
  {
   "cell_type": "code",
   "execution_count": null,
   "metadata": {},
   "outputs": [],
   "source": [
    "bluetooth.sort_values(by=['rssi'], ascending=False)"
   ]
  },
  {
   "cell_type": "code",
   "execution_count": null,
   "metadata": {},
   "outputs": [],
   "source": [
    "# sorted(bluetooth['Distance_meters'].unique())"
   ]
  },
  {
   "cell_type": "code",
   "execution_count": null,
   "metadata": {},
   "outputs": [],
   "source": [
    "# keep only devices within 3.5 meters\n",
    "bluetooth = bluetooth.drop(bluetooth[(bluetooth.Distance_meters > 3.5)].index)\n",
    "bluetooth.sort_values(by=['rssi'], ascending=False)"
   ]
  },
  {
   "cell_type": "markdown",
   "metadata": {},
   "source": [
    "### Removing bluetooth devices not identifying people"
   ]
  },
  {
   "cell_type": "code",
   "execution_count": null,
   "metadata": {},
   "outputs": [],
   "source": [
    "# # Checking for keywords to use to remove devices not identifying people\n",
    "bluetooth.name.unique()"
   ]
  },
  {
   "cell_type": "code",
   "execution_count": null,
   "metadata": {},
   "outputs": [],
   "source": [
    "bluetooth = bluetooth.reset_index()"
   ]
  },
  {
   "cell_type": "code",
   "execution_count": null,
   "metadata": {},
   "outputs": [],
   "source": [
    "# removing bluetooth devices that do not correspond to people (i.e., computers and TV)\n",
    "for row in range(len(bluetooth)):\n",
    "    if bluetooth.name[row].startswith('TV') or bluetooth.name[row].startswith('DESKTOP') or bluetooth.name[row].startswith('LAPTOP'):\n",
    "        bluetooth = bluetooth.drop([row])\n",
    "# df.bluetooth.unique()"
   ]
  },
  {
   "cell_type": "code",
   "execution_count": null,
   "metadata": {},
   "outputs": [],
   "source": [
    "bluetooth"
   ]
  },
  {
   "cell_type": "markdown",
   "metadata": {},
   "source": [
    "### Build list of devices for same timestamp"
   ]
  },
  {
   "cell_type": "code",
   "execution_count": null,
   "metadata": {},
   "outputs": [],
   "source": [
    "i_time = bluetooth.timestamp.unique()\n",
    "i_time.sort()\n",
    "print(len(i_time))"
   ]
  },
  {
   "cell_type": "code",
   "execution_count": null,
   "metadata": {},
   "outputs": [],
   "source": [
    "df = pd.DataFrame(columns=['timestamp', 'devices'])\n",
    "index_time=0\n",
    "index_row=0\n",
    "devices_list=[]\n",
    "while True:\n",
    "    i=i_time[index_time]\n",
    "    if bluetooth.iloc[index_row].at['timestamp'] == i:\n",
    "        devices_list.append(bluetooth.iloc[index_row].at['name'])\n",
    "        index_row+=1\n",
    "    else:\n",
    "        if devices_list != []:\n",
    "            devices_list = list(set(devices_list))\n",
    "            df = df.append({'timestamp': i, 'devices': devices_list}, ignore_index=True) \n",
    "        devices_list=[]\n",
    "        index_time+=1\n",
    "    if index_time >= len(i_time) or index_row >= len(bluetooth.timestamp)-1:\n",
    "        # last append before break, else missing last row\n",
    "        if devices_list != []:\n",
    "            devices_list = list(set(devices_list))\n",
    "            df = df.append({'timestamp': i, 'devices': devices_list}, ignore_index=True) \n",
    "        break\n",
    "# should have 505 rows, one for each timestamps, with respective lists of devices"
   ]
  },
  {
   "cell_type": "code",
   "execution_count": null,
   "metadata": {},
   "outputs": [],
   "source": [
    "df "
   ]
  },
  {
   "cell_type": "markdown",
   "metadata": {},
   "source": [
    "## Save"
   ]
  },
  {
   "cell_type": "code",
   "execution_count": null,
   "metadata": {},
   "outputs": [],
   "source": [
    "df.to_csv('processed_bluetooth.csv')"
   ]
  },
  {
   "cell_type": "code",
   "execution_count": null,
   "metadata": {},
   "outputs": [],
   "source": []
  }
 ],
 "metadata": {
  "kernelspec": {
   "display_name": "Python 3 (ipykernel)",
   "language": "python",
   "name": "python3"
  },
  "language_info": {
   "codemirror_mode": {
    "name": "ipython",
    "version": 3
   },
   "file_extension": ".py",
   "mimetype": "text/x-python",
   "name": "python",
   "nbconvert_exporter": "python",
   "pygments_lexer": "ipython3",
   "version": "3.8.5"
  },
  "toc": {
   "base_numbering": 1,
   "nav_menu": {},
   "number_sections": true,
   "sideBar": true,
   "skip_h1_title": false,
   "title_cell": "Table of Contents",
   "title_sidebar": "Contents",
   "toc_cell": false,
   "toc_position": {},
   "toc_section_display": true,
   "toc_window_display": false
  }
 },
 "nbformat": 4,
 "nbformat_minor": 4
}
