{
 "cells": [
  {
   "cell_type": "markdown",
   "id": "61f41f97",
   "metadata": {},
   "source": [
    "### Cluster map"
   ]
  },
  {
   "cell_type": "code",
   "execution_count": null,
   "id": "85373821",
   "metadata": {},
   "outputs": [],
   "source": [
    "import pandas as pd"
   ]
  },
  {
   "cell_type": "code",
   "execution_count": null,
   "id": "46b52f59",
   "metadata": {
    "scrolled": true
   },
   "outputs": [],
   "source": [
    "df = pd.read_csv('full_match.csv')\n",
    "df = df.drop([\"Unnamed: 0\"], axis=1)\n",
    "df"
   ]
  },
  {
   "cell_type": "code",
   "execution_count": null,
   "id": "1ee3fcf5",
   "metadata": {},
   "outputs": [],
   "source": [
    "# mood function to associate emoticon to value of avg.mood\n",
    "def mood_function(mood):\n",
    "    if mood == '-':\n",
    "        return \"<b>?</b>\"\n",
    "    elif mood <2: # sad & very sad\n",
    "        return \"<img src='https://cdn-icons-png.flaticon.com/512/927/927561.png' width='20'/>\"\n",
    "    elif mood >= 2 and mood < 2.6: # neutral\n",
    "        return \"<img src='https://cdn-icons-png.flaticon.com/512/927/927557.png' width='20'/>\"\n",
    "    elif mood >= 3: # --> happy & very happy\n",
    "        return \"<img src='https://cdn-icons-png.flaticon.com/512/1023/1023656.png' width='20'/>\""
   ]
  },
  {
   "cell_type": "code",
   "execution_count": null,
   "id": "aa0455fa",
   "metadata": {},
   "outputs": [],
   "source": [
    "df = df.fillna('-')"
   ]
  },
  {
   "cell_type": "code",
   "execution_count": null,
   "id": "98eb0d74",
   "metadata": {},
   "outputs": [],
   "source": [
    "import folium\n",
    "from  folium import plugins\n",
    "\n",
    "\n",
    "# zoom level\n",
    "m = folium.Map(location = [45.65, 11.75] , zoom_start = 9)\n",
    "\n",
    "\n",
    "lats = list(df.lat)\n",
    "lngs = list(df.long)\n",
    "pl = list(df.place)\n",
    "mood = list(df.mood)\n",
    "city = list(df.City)\n",
    "wht = list(df.what)\n",
    "\n",
    "label = []\n",
    "for lat, lng, p, md, c, wt in zip(lats, lngs, pl, mood, city, wht):\n",
    "    l = str(mood_function(md)) + '<br>' + str(md) + '<br>' + '<strong>Address: </strong>' + str(c) +\\\n",
    "            '<br> <strong>Subjective place: </strong><br>' + str(p) + '<br><br><strong>' + \\\n",
    "            'Activity:</strong>' + '<br>' + str(wt)\n",
    "    label.append(l)\n",
    "    \n",
    "    \n",
    "# instantiate a mark cluster object for the datapoints in the dataframe\n",
    "datapoints = plugins.MarkerCluster().add_to(m)\n",
    "\n",
    "\n",
    "# loop through the dataframe and add each data point to the mark cluster\n",
    "for lat, lng, lb in zip(df.lat, df.long, label):\n",
    "    iframe = folium.IFrame(lb,\n",
    "                       width=500,\n",
    "                       height=200)\n",
    "\n",
    "    popup = folium.Popup(iframe,\n",
    "                     min_width=100)\n",
    "\n",
    "    folium.Marker(\n",
    "        location=[lat, lng],\n",
    "        icon=None,\n",
    "        popup=popup\n",
    "    ).add_to(datapoints)\n",
    "\n",
    "\n",
    "# display map\n",
    "m"
   ]
  },
  {
   "cell_type": "code",
   "execution_count": null,
   "id": "fb31bcfb",
   "metadata": {},
   "outputs": [],
   "source": [
    "m.save('all_locations_map.html')"
   ]
  }
 ],
 "metadata": {
  "kernelspec": {
   "display_name": "Python 3 (ipykernel)",
   "language": "python",
   "name": "python3"
  },
  "language_info": {
   "codemirror_mode": {
    "name": "ipython",
    "version": 3
   },
   "file_extension": ".py",
   "mimetype": "text/x-python",
   "name": "python",
   "nbconvert_exporter": "python",
   "pygments_lexer": "ipython3",
   "version": "3.8.5"
  },
  "toc": {
   "base_numbering": 1,
   "nav_menu": {},
   "number_sections": true,
   "sideBar": true,
   "skip_h1_title": false,
   "title_cell": "Table of Contents",
   "title_sidebar": "Contents",
   "toc_cell": false,
   "toc_position": {},
   "toc_section_display": true,
   "toc_window_display": false
  }
 },
 "nbformat": 4,
 "nbformat_minor": 5
}
